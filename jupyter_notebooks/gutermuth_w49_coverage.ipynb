{
 "cells": [
  {
   "cell_type": "code",
   "execution_count": 20,
   "metadata": {
    "collapsed": true
   },
   "outputs": [],
   "source": [
    "import matplotlib.pyplot as plt\n",
    "import matplotlib.patches as patches\n",
    "from matplotlib.patches import Rectangle\n",
    "from numpy import genfromtxt\n",
    "import numpy as np\n"
   ]
  },
  {
   "cell_type": "code",
   "execution_count": 36,
   "metadata": {
    "collapsed": false
   },
   "outputs": [
    {
     "name": "stdout",
     "output_type": "stream",
     "text": [
      "[[ 286.3697496   286.7857496     7.37732703    9.09466036]\n",
      " [ 287.3697339   287.7217339     9.04551151    9.28817818]\n",
      " [ 287.56391937  287.98258603    8.03584082   10.76917415]\n",
      " [ 287.38586037  287.80452703    7.70051032   10.43117699]\n",
      " [ 287.74087423  288.16220757    8.37201772   11.10535105]\n",
      " [ 287.20859177  287.62725843    7.36518359   10.09585026]\n",
      " [ 287.03076477  287.44943143    7.0267972     9.75746386]\n",
      " [ 287.92099337  288.33966003    8.70965034   11.440317  ]\n",
      " [ 288.09876743  288.52010077    9.04598599   11.77665265]\n",
      " [ 287.66511003  287.93444337    9.04604635    9.39271302]\n",
      " [ 287.6621043   287.9101043     8.9858961     9.23922943]\n",
      " [ 286.4312639   286.7672639     9.02770928   11.25704262]\n",
      " [ 285.4615123   285.7975123     7.17541616    9.40474949]\n",
      " [ 285.58006153  285.92139487    7.40719243    9.63652576]\n",
      " [ 285.703558    286.039558      7.63876852    9.86810185]\n",
      " [ 285.8250379   286.1610379     7.87021007   10.0995434 ]\n",
      " [ 286.18531513  286.52664847    8.56276723   10.79476723]\n",
      " [ 286.0670459   286.4030459     8.33297982   10.56231316]\n",
      " [ 285.946209    286.282209      8.10155338   10.33088671]\n",
      " [ 287.1337925   287.4777925    10.00294563   10.82961229]\n",
      " [ 286.3097205   286.6457205     8.7959798    11.02531313]]\n"
     ]
    }
   ],
   "source": [
    "aorlist = genfromtxt('/home/kecai/w49/aorlist.csv', delimiter=',')\n",
    "coverage_list_t = np.transpose(aorlist)[5:9]\n",
    "coverage_list = np.transpose(coverage_list_t)\n",
    "print coverage_list"
   ]
  },
  {
   "cell_type": "code",
   "execution_count": 35,
   "metadata": {
    "collapsed": false
   },
   "outputs": [
    {
     "name": "stdout",
     "output_type": "stream",
     "text": [
      "285.4615123 288.520100767 7.0267971965 11.7766526535\n"
     ]
    }
   ],
   "source": [
    "coverage_map = plt.figure()\n",
    "ax = coverage_map.add_subplot(111)\n",
    "ra_min = min(coverage_list_t[0])\n",
    "ra_max = max(coverage_list_t[1])\n",
    "dec_min = min(coverage_list_t[2])\n",
    "dec_max = max(coverage_list_t[3])\n",
    "\n",
    "padding = 0.01\n",
    "\n",
    "ax.set_xlim([ra_min-padding,ra_max+padding])\n",
    "ax.set_ylim([dec_min-padding,dec_max+padding])\n",
    "\n",
    "print ra_min, ra_max, dec_min, dec_max"
   ]
  },
  {
   "cell_type": "code",
   "execution_count": 38,
   "metadata": {
    "collapsed": false
   },
   "outputs": [],
   "source": [
    "for i in coverage_list:\n",
    "    ax.add_patch(\n",
    "        Rectangle(\n",
    "            (i[0], i[2]), i[1]-i[0], i[3]-i[2], fill=False\n",
    "        )\n",
    "    )\n",
    "coverage_map.savefig('/home/kecai/w49/coverage_map.png', dpi=900, bbox_inches='tight')"
   ]
  },
  {
   "cell_type": "code",
   "execution_count": null,
   "metadata": {
    "collapsed": true
   },
   "outputs": [],
   "source": []
  }
 ],
 "metadata": {
  "kernelspec": {
   "display_name": "Python 2",
   "language": "python",
   "name": "python2"
  },
  "language_info": {
   "codemirror_mode": {
    "name": "ipython",
    "version": 2
   },
   "file_extension": ".py",
   "mimetype": "text/x-python",
   "name": "python",
   "nbconvert_exporter": "python",
   "pygments_lexer": "ipython2",
   "version": "2.7.13"
  }
 },
 "nbformat": 4,
 "nbformat_minor": 2
}

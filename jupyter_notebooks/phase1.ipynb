{
 "cells": [
  {
   "cell_type": "code",
   "execution_count": 2,
   "metadata": {
    "collapsed": false,
    "deletable": true,
    "editable": true
   },
   "outputs": [],
   "source": [
    "import sqlite3 as sql\n",
    "import math\n",
    "import catalog_utils as cu\n",
    "\n",
    "#run_phase1('gtw49', '/home/kecai/w49/w49.db')"
   ]
  },
  {
   "cell_type": "code",
   "execution_count": 3,
   "metadata": {
    "collapsed": true,
    "deletable": true,
    "editable": true
   },
   "outputs": [],
   "source": [
    "#UPDATE Phase field for sources that have m5_8 and m8_0 detections and whose\n",
    "#photometric uncertainities < 0.2 mag in all four IRAC bands\n",
    "#con is a connection object\n",
    "#t is the name of the table from which we draw records\n",
    "def init(con, source):\n",
    "    cur = con.cursor()\n",
    "    target = source + '_p1'\n",
    "    cur.execute('''CREATE TABLE ''' + target + ''' AS \n",
    "                   SELECT desig, m3_6, m4_5, m5_8, m8_0, \n",
    "                                dm3_6, dm4_5, dm5_8, dm8_0, Type FROM ''' + source + \n",
    "                ''' WHERE (m5_8 IS NOT NULL) AND \n",
    "                          (m8_0 IS NOT NULL) AND \n",
    "                          dm3_6 < ? AND \n",
    "                          dm4_5 < ? AND \n",
    "                          dm5_8 < ? AND \n",
    "                          dm8_0 < ?''', [0.2]*4)\n",
    "    return target"
   ]
  },
  {
   "cell_type": "code",
   "execution_count": 4,
   "metadata": {
    "collapsed": true,
    "deletable": true,
    "editable": true
   },
   "outputs": [],
   "source": [
    "#apply PAH conditions to extract PAH (Type = 19), update n_Type in t_p1\n",
    "def extract_19(con, source):\n",
    "    cur = con.cursor()\n",
    "    #CREATE TABLE containing PAH galaxies\n",
    "    target = source + '_19'\n",
    "    cur.execute('''CREATE TABLE '''+ target + ''' AS \n",
    "                   SELECT desig FROM ''' + source + ''' WHERE Type IS NULL AND\n",
    "                   ((m4_5 - m5_8  < (1.05/1.2) * (m5_8 - m8_0 - 1)) AND\n",
    "                    (m4_5 - m5_8 < 1.05) AND\n",
    "                    (m5_8 - m8_0 > 1) AND\n",
    "                    (m4_5 > 11.5))\n",
    "                    OR\n",
    "                   ((m3_6 - m5_8 < (1.5/2) * (m4_5 - m8_0 -1)) AND\n",
    "                    (m3_6 - m5_8 < 1.5) AND\n",
    "                    (m4_5 - m8_0 > 1) AND\n",
    "                    (m4_5 > 11.5))''')\n",
    "    return target"
   ]
  },
  {
   "cell_type": "code",
   "execution_count": 12,
   "metadata": {
    "collapsed": true,
    "deletable": true,
    "editable": true
   },
   "outputs": [],
   "source": [
    "def extract_29(con, source):\n",
    "    cur = con.cursor()\n",
    "    #CREATE TABLE containing AGN\n",
    "    target = source + '_29'\n",
    "    cur.execute('''CREATE TABLE '''+ target + ''' AS \n",
    "                   SELECT desig FROM ''' + source + ''' WHERE Type IS NULL AND\n",
    "                  (m4_5 - m8_0 > 0.5 AND m4_5 > 13.5 +(m4_5 - m8_0 - 2.3)/0.4 AND m4_5 > 13.5) \n",
    "                  AND\n",
    "                  (m4_5 > 14 + (m4_5 - m8_0 - 0.5) OR m4_5 > 14.5 - (m4_5 - m8_0 - 1.2)/0.3 OR m4_5 > 14.5)''')\n",
    "    return target"
   ]
  },
  {
   "cell_type": "code",
   "execution_count": 6,
   "metadata": {
    "collapsed": true,
    "deletable": true,
    "editable": true
   },
   "outputs": [],
   "source": [
    "def extract_9(con, source):\n",
    "    cur = con.cursor()\n",
    "    #CREATE TABLE containing shock gas emission \n",
    "    target = source + '_9'\n",
    "    cur.execute('''CREATE TABLE '''+ target + ''' AS \n",
    "                   SELECT desig FROM '''+ source + ''' WHERE Type IS NULL AND \n",
    "                   (m3_6 - m4_5 > (1.2/0.55)*(m4_5 - m5_8 - 0.3)+0.8) AND\n",
    "                   (m4_5 - m5_8 <= 0.85) AND\n",
    "                   (m3_6 - m4_5 > 1.05)''')\n",
    "    return target"
   ]
  },
  {
   "cell_type": "code",
   "execution_count": 7,
   "metadata": {
    "collapsed": true,
    "deletable": true,
    "editable": true
   },
   "outputs": [],
   "source": [
    "def extract_20(con, source):\n",
    "    #CREATE TABLE containing pah contaminated apertures\n",
    "    cur = con.cursor()\n",
    "    target = source + '_20'\n",
    "    cur.execute('''CREATE TABLE '''+ target +''' AS\n",
    "                   SELECT desig FROM '''+ source +''' WHERE Type IS NULL AND\n",
    "                   m3_6 - m4_5 - SQRT(SQUARE(dm3_6) + SQUARE(dm4_5)) <= \n",
    "                     1.4 * (m4_5 - m5_8 + SQRT(SQUARE(dm4_5) + SQUARE(dm5_8)) - 0.7) + 0.15 AND\n",
    "                   m3_6 - m4_5 - SQRT(SQUARE(dm3_6) + SQUARE(dm4_5)) <= 1.65''')\n",
    "    return target"
   ]
  },
  {
   "cell_type": "code",
   "execution_count": 8,
   "metadata": {
    "collapsed": true,
    "deletable": true,
    "editable": true
   },
   "outputs": [],
   "source": [
    "def extract_1(con, source):\n",
    "    cur = con.cursor()\n",
    "    target = source + '_1'\n",
    "    cur.execute('''CREATE TABLE '''+ target +''' AS \n",
    "                   SELECT desig FROM '''+ source +''' WHERE Type IS NULL AND\n",
    "                   m4_5 - m5_8 > 0.7 AND\n",
    "                   m3_6 - m4_5 > 0.7''')\n",
    "    return target"
   ]
  },
  {
   "cell_type": "code",
   "execution_count": 9,
   "metadata": {
    "collapsed": true,
    "deletable": true,
    "editable": true
   },
   "outputs": [],
   "source": [
    "def extract_2(con, source):\n",
    "    cur = con.cursor()\n",
    "    target = source + '_2'\n",
    "    cur.execute('''CREATE TABLE '''+ target +''' AS \n",
    "                   SELECT desig FROM '''+ source +''' WHERE Type IS NULL AND\n",
    "                   m4_5 - m8_0 - SQRT(SQUARE(dm4_5) + SQUARE(dm8_0)) > 0.5 AND\n",
    "                   m3_6 - m5_8 - SQRT(SQUARE(dm3_6) + SQUARE(dm5_8)) > 0.35 AND\n",
    "                   m3_6 - m5_8 + SQRT(SQUARE(dm3_6) + SQUARE(dm5_8)) \n",
    "                     <= (0.14/0.04)*(m4_5 - m8_0 - SQRT(SQUARE(dm4_5) + SQUARE(dm8_0))-0.5) + 0.5 AND\n",
    "                   m3_6 - m4_5 - SQRT(SQUARE(dm3_6) + SQUARE(dm4_5)) > 0.15''')\n",
    "    return target"
   ]
  },
  {
   "cell_type": "code",
   "execution_count": 10,
   "metadata": {
    "collapsed": true,
    "deletable": true,
    "editable": true
   },
   "outputs": [],
   "source": [
    "#requires two string arguments (put quotes around arguments!)\n",
    "#master: name of the master table where all data is stored\n",
    "#constr: connection string to the database\n",
    "def run_phase1(master, constr):\n",
    "    con = sql.connect(constr)\n",
    "    \n",
    "    #add math udf to sqlite\n",
    "    cu.add_math(con)\n",
    "    #initialize and create a working copy for phase1 containing desig, four IRAC channel mags and Type\n",
    "    wc = init(con, master) \n",
    "    cu.update_phase(con, master, wc, 1)\n",
    "    \n",
    "    #extract and update PAH in the working copy\n",
    "    c19 = extract_19(con, wc) \n",
    "    cu.update_type(con, wc, c19, 19)\n",
    "    cu.update_type(con, master, c19, 19)\n",
    "    \n",
    "    #extract and update AGN\n",
    "    c29 = extract_29(con, wc)\n",
    "    cu.update_type(con, wc, c29, 29)\n",
    "    cu.update_type(con, master, c29, 29)\n",
    "    \n",
    "    c9 = extract_9(con, wc)\n",
    "    cu.update_type(con, wc, c9, 9)\n",
    "    cu.update_type(con, master, c9, 9)\n",
    "    \n",
    "    c20 = extract_20(con, wc)\n",
    "    cu.update_type(con, wc, c20, 20)\n",
    "    cu.update_type(con, master, c20, 20)\n",
    "    \n",
    "    c1 = extract_1(con, wc)\n",
    "    cu.update_type(con, wc, c1, 1)\n",
    "    cu.update_type(con, master, c1, 1)\n",
    "    \n",
    "    c2 = extract_2(con, wc)\n",
    "    cu.update_type(con, wc, c2, 2)\n",
    "    cu.update_type(con, master, c2, 2)\n",
    "    \n",
    "    return 0"
   ]
  },
  {
   "cell_type": "code",
   "execution_count": 14,
   "metadata": {
    "collapsed": false,
    "deletable": true,
    "editable": true
   },
   "outputs": [
    {
     "data": {
      "text/plain": [
       "0"
      ]
     },
     "execution_count": 14,
     "metadata": {},
     "output_type": "execute_result"
    }
   ],
   "source": [
    "run_phase1('gtw49', '/home/kecai/w49/w49test.db')"
   ]
  },
  {
   "cell_type": "code",
   "execution_count": null,
   "metadata": {
    "collapsed": true,
    "deletable": true,
    "editable": true
   },
   "outputs": [],
   "source": []
  }
 ],
 "metadata": {
  "kernelspec": {
   "display_name": "Python 2",
   "language": "python",
   "name": "python2"
  },
  "language_info": {
   "codemirror_mode": {
    "name": "ipython",
    "version": 2
   },
   "file_extension": ".py",
   "mimetype": "text/x-python",
   "name": "python",
   "nbconvert_exporter": "python",
   "pygments_lexer": "ipython2",
   "version": "2.7.13"
  }
 },
 "nbformat": 4,
 "nbformat_minor": 2
}

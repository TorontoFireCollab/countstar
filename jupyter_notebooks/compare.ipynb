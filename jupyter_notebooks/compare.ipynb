{
 "cells": [
  {
   "cell_type": "code",
   "execution_count": 56,
   "metadata": {
    "collapsed": true,
    "deletable": true,
    "editable": true
   },
   "outputs": [],
   "source": [
    "import sqlite3 as sql\n",
    "import pandas as pd\n",
    "import numpy as np\n",
    "import matplotlib.pyplot as plt\n",
    "import time\n",
    "#angres is angular resolution, 0.3 arcsec. 0.000083 is in degree\n",
    "angres = 0.00008333333"
   ]
  },
  {
   "cell_type": "code",
   "execution_count": 57,
   "metadata": {
    "collapsed": true,
    "deletable": true,
    "editable": true
   },
   "outputs": [],
   "source": [
    "def compare2d(constr, table, dim1, dim2, objtype, imagedir):\n",
    "    con = sql.connect(constr)\n",
    "    \n",
    "    df1 = pd.read_sql_query('SELECT '+ dim1 +', '+ dim2 +' FROM '+ table + ' WHERE Type = ?;', con, params = [objtype])\n",
    "    df2 = pd.read_sql_query('SELECT '+ dim1 +', '+ dim2 +' FROM '+ table + ' WHERE oType = ?;', con, params = [objtype])\n",
    "    #plt.savefig(imagedir+'/'+dim1+dim2+'_'+str(objtype)+'newbefore.png', dpi=96)\n",
    "    plt.plot(df1[[0]], df1[[1]], 'ro', label=t1)\n",
    "    plt.plot(df2[[0]], df2[[1]], 'bx', label=t2)\n",
    "    plt.xlabel(dim1)\n",
    "    plt.ylabel(dim2)\n",
    "    plt.savefig(imagedir+'/'+dim1+dim2+'_'+str(objtype)+'.png', dpi=96)\n",
    "    plt.close()\n",
    "    return 0"
   ]
  },
  {
   "cell_type": "code",
   "execution_count": 58,
   "metadata": {
    "collapsed": true
   },
   "outputs": [],
   "source": [
    "def compare2d(constr, t1, t2, dim1, dim2, objtype, imagedir):\n",
    "    con = sql.connect(constr)\n",
    "    \n",
    "    df1 = pd.read_sql_query('SELECT '+ dim1 +', '+ dim2 +' FROM '+ t1 + ' WHERE Type = ?;', con, params = [objtype])\n",
    "    df2 = pd.read_sql_query('SELECT '+ dim1 +', '+ dim2 +' FROM '+ t2 + ' WHERE oType = ?;', con, params = [objtype])\n",
    "    #plt.savefig(imagedir+'/'+dim1+dim2+'_'+str(objtype)+'newbefore.png', dpi=96)\n",
    "    plt.plot(df1[[0]], df1[[1]], 'ro', label=t1)\n",
    "    plt.plot(df2[[0]], df2[[1]], 'bx', label=t2)\n",
    "    plt.xlabel(dim1)\n",
    "    plt.ylabel(dim2)\n",
    "    plt.savefig(imagedir+'/'+dim1+dim2+'_'+str(objtype)+'.png', dpi=96)\n",
    "    plt.close()\n",
    "    return 0"
   ]
  },
  {
   "cell_type": "code",
   "execution_count": 59,
   "metadata": {
    "collapsed": true,
    "deletable": true,
    "editable": true
   },
   "outputs": [],
   "source": [
    "def compare2dall(constr, table, objtype, imagedir):\n",
    "    compare2d(constr, table, 'c4580', 'c3658', objtype, imagedir)\n",
    "    compare2d(constr, table, 'c5880', 'c4558', objtype, imagedir)\n",
    "    compare2d(constr, table, 'c4580', 'm4_5', objtype, imagedir)\n",
    "    compare2d(constr, table, 'c4580', 'c3645', objtype, imagedir)\n",
    "    compare2d(constr, table, 'c4558', 'c3645', objtype, imagedir)\n",
    "    compare2d(constr, table, 'c5824', 'c4558', objtype, imagedir)\n",
    "    compare2d(constr, table, 'c4524', 'c3645', objtype, imagedir)\n",
    "    compare2d(constr, table, 'ra', 'dec', objtype, imagedir)\n",
    "    return 0"
   ]
  },
  {
   "cell_type": "code",
   "execution_count": null,
   "metadata": {
    "collapsed": true
   },
   "outputs": [],
   "source": []
  },
  {
   "cell_type": "code",
   "execution_count": 93,
   "metadata": {
    "collapsed": true,
    "deletable": true,
    "editable": true
   },
   "outputs": [],
   "source": [
    "constr = '/home/kecai/w49/w49.db'\n",
    "source = 'gtw49'\n",
    "target = 'missmatch_1'\n",
    "objtype = 1\n",
    "imagedir = '/home/kecai/w49/images/missmatch'"
   ]
  }
 ],
 "metadata": {
  "kernelspec": {
   "display_name": "Python 2",
   "language": "python",
   "name": "python2"
  },
  "language_info": {
   "codemirror_mode": {
    "name": "ipython",
    "version": 2
   },
   "file_extension": ".py",
   "mimetype": "text/x-python",
   "name": "python",
   "nbconvert_exporter": "python",
   "pygments_lexer": "ipython2",
   "version": "2.7.13"
  }
 },
 "nbformat": 4,
 "nbformat_minor": 2
}

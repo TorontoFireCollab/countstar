{
 "cells": [
  {
   "cell_type": "code",
   "execution_count": 2,
   "metadata": {
    "collapsed": true,
    "deletable": true,
    "editable": true
   },
   "outputs": [],
   "source": [
    "import pandas as pd\n",
    "import pandas.io.sql as pd_sql\n",
    "import sqlite3 as sql\n",
    "import numpy as np\n",
    "from pandas import Series, DataFrame\n",
    "import math\n",
    "import matplotlib.pyplot as plt\n",
    "np.set_printoptions(precision=8)\n",
    "\n",
    "\n",
    "#scrub sanitizes database inputs by only accepting alphanumerics, i.e. A-Z a-z 0-9\n",
    "#this prevents sql injection\n",
    "#as a result, table names should only contain alphanumerics, special symbols may get scrubbed away\n",
    "def scrub(db_input):\n",
    "    return ''.join( chr for chr in db_input if chr.isalnum() )"
   ]
  },
  {
   "cell_type": "code",
   "execution_count": 2,
   "metadata": {
    "collapsed": false,
    "deletable": true,
    "editable": true
   },
   "outputs": [],
   "source": [
    "glimpse1_irac = pd.read_csv('/home/kecai/w49/glimpse1_irac.tbl', sep = '\\s+', header = None, skiprows = 70, \\\n",
    "                       names = ['SSTGLMC', 'tmass_designation', 'tmass_cntr', 'ra', 'dec', 'dra', 'ddec', \n",
    "                                'm3_6','dm3_6', 'm4_5', 'dm4_5', 'm5_8', 'dm5_8','m8_0', 'dm8_0', \n",
    "                                'f3_6', 'df3_6', 'f4_5', 'df4_5', 'f5_8', 'df5_8', 'f8_0', 'df8_0', \n",
    "                                'c36_45', 'c36_58', 'c36_80', 'c45_58', 'c45_80','c58_80'], \\\n",
    "                       na_values = 'null')\n",
    "con = sql.connect('/home/kecai/w49/w49.db')\n",
    "#con = sql.connect(':memory:')\n",
    "glimpse1_irac.to_sql(\"glimpse1_irac\", con, if_exists = 'replace', index = True)\n",
    "con.commit()"
   ]
  },
  {
   "cell_type": "code",
   "execution_count": 3,
   "metadata": {
    "collapsed": false,
    "deletable": true,
    "editable": true
   },
   "outputs": [],
   "source": [
    "gutermuth = pd.read_csv('/home/kecai/w49/gutermuth.tbl', sep = ',', header = None, skiprows = 1, \\\n",
    "                        names = ['desig', 'ra', 'dec',\n",
    "                                 'm3_6', 'm4_5', 'm5_8', 'm8_0', 'm24', 'mJ', 'mH', 'mKs',\n",
    "                                 'dm3_6', 'dm4_5', 'dm5_8', 'dm8_0', 'dm24', 'dmJ', 'dmH', 'dmKs', \n",
    "                                 'Type', 'Phase', 'f_Type', 'alpha', 'M', 'W'\n",
    "                                  ],\\\n",
    "                             na_values = 'null')\n",
    "con = sql.connect('/home/kecai/w49/w49.db')\n",
    "gutermuth.to_sql(\"gtw49\", con, if_exists = 'replace', index = False)\n",
    "con.commit()"
   ]
  },
  {
   "cell_type": "code",
   "execution_count": 3,
   "metadata": {
    "collapsed": false,
    "deletable": true,
    "editable": true
   },
   "outputs": [
    {
     "data": {
      "text/plain": [
       "<function commit>"
      ]
     },
     "execution_count": 3,
     "metadata": {},
     "output_type": "execute_result"
    }
   ],
   "source": [
    "gl_phase2_raw = pd.read_csv('/home/kecai/w49/glimpse_phase_II.tbl', sep = '\\s+', header = None, skiprows = 66, \\\n",
    "                       names = ['desig', 'tmass_deisgnation', 'tmass_cntr', 'ra', 'dec', 'dra', 'ddec', \n",
    "                                'mJ', 'dmJ', 'mH', 'dmH', 'mKs', 'dmKs', \n",
    "                                'm3_6', 'dm3_6', 'm4_5', 'dm4_5', 'm5_8', 'dm5_8', 'm8_0', 'dm8_0', \n",
    "                                'c36_45', 'c36_58', 'c36_80', 'c45_58', 'c45_80', 'c58_80'], \\\n",
    "                        na_values = 'null')\n",
    "con = sql.connect('/home/kecai/w49/w49.db')\n",
    "gl_phase2_raw.to_sql(\"gl_phase2_raw\", con, if_exists = 'replace', index = False)\n",
    "con.commit"
   ]
  },
  {
   "cell_type": "code",
   "execution_count": 6,
   "metadata": {
    "collapsed": false,
    "deletable": true,
    "editable": true
   },
   "outputs": [
    {
     "data": {
      "text/plain": [
       "<function commit>"
      ]
     },
     "execution_count": 6,
     "metadata": {},
     "output_type": "execute_result"
    }
   ],
   "source": [
    "mipsgal_raw = pd.read_csv('/home/kecai/w49/mipsgal.tbl', sep = '\\s+', header = None, skiprows = 60, \\\n",
    "                         names = ['mipsgal_desig', 'ra', 'dec', 'm24', 'dm24', 'tmass_desig', 'gl_desig', \n",
    "                                  'mJ', 'dmJ', 'mH', 'dmH', 'mKs', 'dmKs', \n",
    "                                  'm3_6', 'dm3_6', 'm4_5', 'dm4_5', 'm5_8', 'dm5_8', 'm8_0', 'dm8_0'], \\\n",
    "                         na_values = 'null')\n",
    "con = sql.connect('/home/kecai/w49/w49.db')\n",
    "mipsgal_raw.to_sql(\"mipsgal_raw\", con, if_exists = 'replace', index = False)\n",
    "con.commit"
   ]
  },
  {
   "cell_type": "code",
   "execution_count": null,
   "metadata": {
    "collapsed": false,
    "deletable": true,
    "editable": true
   },
   "outputs": [],
   "source": [
    "print (glimpse1_dist < 0).sum()\n",
    "print (gutermuth_dist < 0).sum()"
   ]
  },
  {
   "cell_type": "code",
   "execution_count": null,
   "metadata": {
    "collapsed": false,
    "deletable": true,
    "editable": true
   },
   "outputs": [],
   "source": [
    "plt.figure(1)\n",
    "plt.subplot(3,1,1)\n",
    "plt.hist(glimpse1_dist, bins = 20)\n",
    "plt.ylabel(\"glimpse1 vs gutermuth\")\n",
    "\n",
    "plt.subplot(3,1,3)\n",
    "plt.hist(gutermuth_dist, bins = 20)\n",
    "plt.xlabel(\"Distance\")\n",
    "plt.ylabel(\"gutermuth vs glimpse1\")\n",
    "\n",
    "plt.savefig('/home/kecai/w49/compare')\n",
    "plt.show()"
   ]
  },
  {
   "cell_type": "code",
   "execution_count": null,
   "metadata": {
    "collapsed": false,
    "deletable": true,
    "editable": true
   },
   "outputs": [],
   "source": [
    "gutermuth_mini = pd.read_csv('/home/kecai/w49/gutermuth_mini.tbl', sep = ',', header = None, skiprows = 1, \\\n",
    "                        names = ['SSTOERC','M', 'W', 'ra', 'dec', 'mKs', 'm3_6', 'm4_5', 'm5_8', 'm8_0', \n",
    "                                 'Type', 'Phase', 'f_Type', 'alpha', 'd3_6','d4_5', 'd5_8', 'd8_0', 'd24', 'm24',\n",
    "                                 'mH', 'mJ', 'dKs', 'dJ', 'dH'],\\\n",
    "                             na_values = 'null')"
   ]
  },
  {
   "cell_type": "code",
   "execution_count": null,
   "metadata": {
    "collapsed": true,
    "deletable": true,
    "editable": true
   },
   "outputs": [],
   "source": [
    "glimpse1_irac_mini = pd.read_csv('/home/kecai/w49/glimpse1_irac_mini.tbl', sep = '\\s+', header = None, skiprows = 70, \\\n",
    "                       names = ['SSTGLMC', 'tmass_designation', 'tmass_cntr', 'ra', 'dec', 'dra', 'ddec', \n",
    "                                'm3_6','dm3_6', 'm4_5', 'dm4_5', 'm5_8', 'dm5_8','m8_0', ' dm8_0', \n",
    "                                'f3_6', 'df3_6', 'f4_5', 'df4_5', 'f5_8', 'df5_8', 'f8_0', 'df8_0', \n",
    "                                'c36_45', 'c36_58', 'c36_80', 'c45_58', 'c45_80','c58_80'], \\\n",
    "                       na_values = 'null')"
   ]
  },
  {
   "cell_type": "code",
   "execution_count": null,
   "metadata": {
    "collapsed": false,
    "deletable": true,
    "editable": true
   },
   "outputs": [],
   "source": [
    "#cur = con.cursor()\n",
    "#cur.execute('''CREATE INDEX gtrd ON gutermuth (ra, dec)''')\n",
    "#cur.execute('''CREATE INDEX glrd ON glimpse1 (ra, dec)''')"
   ]
  }
 ],
 "metadata": {
  "kernelspec": {
   "display_name": "Python 2",
   "language": "python",
   "name": "python2"
  },
  "language_info": {
   "codemirror_mode": {
    "name": "ipython",
    "version": 2
   },
   "file_extension": ".py",
   "mimetype": "text/x-python",
   "name": "python",
   "nbconvert_exporter": "python",
   "pygments_lexer": "ipython2",
   "version": "2.7.13"
  }
 },
 "nbformat": 4,
 "nbformat_minor": 2
}

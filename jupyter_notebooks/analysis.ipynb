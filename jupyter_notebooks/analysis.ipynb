{
 "cells": [
  {
   "cell_type": "code",
   "execution_count": null,
   "metadata": {
    "collapsed": true
   },
   "outputs": [],
   "source": [
    "import sqlite3 as sql\n",
    "import pandas as pd\n",
    "import numpy as np\n",
    "import matplotlib.pyplot as plt\n",
    "import time\n",
    "#angres is angular resolution, 0.3 arcsec. 0.000083 is in degree\n",
    "angres = 0.00008333333"
   ]
  },
  {
   "cell_type": "code",
   "execution_count": 8,
   "metadata": {
    "collapsed": true
   },
   "outputs": [],
   "source": [
    "def missmatch(constr, source, target, *objtypes):\n",
    "    con = sql.connect(constr)\n",
    "    cur = con.cursor()\n",
    "    query = '''CREATE TABLE ''' + target + ''' AS SELECT * FROM '''+ source + ''' WHERE Type <> oType AND ('''\n",
    "    i = 0\n",
    "    for objtype in objtypes:\n",
    "        query += ' Type =' + str(objtype) + ' OR oType =' + str(objtype)\n",
    "        i+=1\n",
    "        if i < len(objtypes):\n",
    "            query += ' OR '\n",
    "        else:\n",
    "            query += ')'\n",
    "    cur.execute(query)\n",
    "    return target, query  "
   ]
  },
  {
   "cell_type": "code",
   "execution_count": null,
   "metadata": {
    "collapsed": true
   },
   "outputs": [],
   "source": [
    "def scan(constr, small, large, radius=3):\n",
    "    con = sql.connect(constr)\n",
    "    cur = con.cursor()\n",
    "    target = small+'_'+large\n",
    "    cur.execute('''CREATE TABLE '''+ target + ''' AS SELECT * FROM ''' \n",
    "                   + small +''' AS sm JOIN '''+ large +''' AS lg ON 1 = 1 WHERE\n",
    "                   lg.ra > sm.ra - ? AND \n",
    "                   lg.ra < sm.ra + ? AND\n",
    "                   lg.dec > sm.dec - ? AND\n",
    "                   lg.dec < sm.dec + ? AND\n",
    "                   lg.desig <> sm.desig''', [radius*angres]*4)\n",
    "    return target"
   ]
  },
  {
   "cell_type": "code",
   "execution_count": 3,
   "metadata": {
    "collapsed": true
   },
   "outputs": [],
   "source": [
    "def scatter_plot_query(con,  xlb, ylb, imagepath, *queries):\n",
    "    if len(queries) > 7:\n",
    "        print 'Please provide no more than 7 queries.'\n",
    "        return 0\n",
    "    else:\n",
    "        markers = ['ro', 'bx', 'g^', 'ys', 'cd', 'm|', 'k.']\n",
    "        con = sql.connect(con)\n",
    "        i = 0\n",
    "        for query in queries:\n",
    "            df = pd.read_sql_query(query, con)\n",
    "            plt.plot(df[[0]], df[[1]], markers[i], label='q'+ str(i+1))\n",
    "            i = i+1    \n",
    "        plt.xlabel(xlb)\n",
    "        plt.ylabel(ylb)\n",
    "        plt.legend()\n",
    "        ts = time.time()\n",
    "        plt.savefig(imagepath+str(ts)+'.png', dpi=96)\n",
    "        plt.close()\n",
    "        return 0"
   ]
  },
  {
   "cell_type": "code",
   "execution_count": null,
   "metadata": {
    "collapsed": true
   },
   "outputs": [],
   "source": []
  }
 ],
 "metadata": {
  "kernelspec": {
   "display_name": "Python 2",
   "language": "python",
   "name": "python2"
  },
  "language_info": {
   "codemirror_mode": {
    "name": "ipython",
    "version": 2
   },
   "file_extension": ".py",
   "mimetype": "text/x-python",
   "name": "python",
   "nbconvert_exporter": "python",
   "pygments_lexer": "ipython2",
   "version": "2.7.13"
  }
 },
 "nbformat": 4,
 "nbformat_minor": 2
}

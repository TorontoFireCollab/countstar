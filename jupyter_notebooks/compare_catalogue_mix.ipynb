{
 "cells": [
  {
   "cell_type": "code",
   "execution_count": 47,
   "metadata": {
    "collapsed": true
   },
   "outputs": [],
   "source": [
    "import pandas as pd\n",
    "import pandas.io.sql as pd_sql\n",
    "import sqlite3 as sql\n",
    "import numpy as np\n",
    "from pandas import Series, DataFrame\n",
    "import math\n",
    "import matplotlib.pyplot as plt\n",
    "np.set_printoptions(precision=8)\n",
    "\n",
    "#scrube sanitizes database inputs by only accepting alphanumerics, i.e. A-Z a-z 0-9\n",
    "#this prevents sql injection\n",
    "#as a result, database and table names should only contain alphanumerics.\n",
    "def scrub(db_input):\n",
    "    return ''.join( chr for chr in db_input if chr.isalnum() )"
   ]
  },
  {
   "cell_type": "code",
   "execution_count": 68,
   "metadata": {
    "collapsed": true
   },
   "outputs": [],
   "source": [
    "mopexdf = pd.read_csv('/home/kecai/Downloads/r7283968out_overlap/mosaic_extract.tbl', \\\n",
    "                         sep = '\\s+', header = None, skiprows = 70, names = ['RA', 'DEC'])\n",
    "photvisdf = pd.read_csv('/home/kecai/Downloads/r7283968out_overlap/photvis_detect.list', \\\n",
    "                     sep = ',', header = None, names = ['RA', 'DEC'])"
   ]
  },
  {
   "cell_type": "code",
   "execution_count": 87,
   "metadata": {
    "collapsed": false
   },
   "outputs": [
    {
     "data": {
      "text/plain": [
       "<sqlite3.Cursor at 0x7ff55d6d39d0>"
      ]
     },
     "execution_count": 87,
     "metadata": {},
     "output_type": "execute_result"
    }
   ],
   "source": [
    "#con = sql.connect('/home/kecai/Downloads/compare.db')\n",
    "con = sql.connect(':memory:')\n",
    "mopexdf.to_sql(\"mopextb\", con, if_exists = 'replace', index = False)\n",
    "photvisdf.to_sql(\"photvistb\", con, if_exists = 'replace', index = False)\n",
    "con.commit()\n",
    "cur = con.cursor()\n",
    "cur.execute('''CREATE INDEX pv_rd ON photvistb (RA, DEC)''')\n",
    "cur.execute('''CREATE INDEX mx_rd ON mopextb (RA, DEC)''')"
   ]
  },
  {
   "cell_type": "code",
   "execution_count": 88,
   "metadata": {
    "collapsed": true
   },
   "outputs": [],
   "source": [
    "def catalogue_compare_mix(df, table_name_string, margin, conn):\n",
    "    D = np.empty([len(df)], dtype = float)\n",
    "    i = 0\n",
    "    for df_row in df.itertuples():\n",
    "        min_distance = margin\n",
    "        cursor = conn.cursor()\n",
    "        bounds = [df_row[1] - margin, df_row[1] + margin, df_row[2] - margin, df_row[2] + margin]\n",
    "        for row in cursor.execute('''SELECT * FROM ''' + scrub(table_name_string) + ''' \n",
    "                                     WHERE \n",
    "                                     RA > ? and \n",
    "                                     RA < ? and\n",
    "                                     DEC > ? and\n",
    "                                     DEC < ?''', bounds):\n",
    "            distance = math.sqrt((df_row[1] - row[0])**2 + (df_row[2] - row[1])**2)\n",
    "            if min_distance > distance:\n",
    "                min_distance = distance\n",
    "        if min_distance < margin:\n",
    "            D[i] = min_distance\n",
    "        else:\n",
    "            D[i] = -0.0001\n",
    "        i = i+1\n",
    "    return D"
   ]
  },
  {
   "cell_type": "code",
   "execution_count": 89,
   "metadata": {
    "collapsed": false
   },
   "outputs": [
    {
     "name": "stdout",
     "output_type": "stream",
     "text": [
      "1.44619297981\n",
      "1.21406602859\n"
     ]
    }
   ],
   "source": [
    "import time\n",
    "\n",
    "#start = time.time()\n",
    "#D_df = catalogue_compare_df(mopex_df, photvis_df, 0.001)\n",
    "#print time.time() - start\n",
    "\n",
    "start = time.time()\n",
    "D_mopex_photvis = catalogue_compare_mix(mopexdf, 'photvistb', 0.001, con)\n",
    "print time.time() - start\n",
    "\n",
    "start = time.time()\n",
    "D_photvis_mopex = catalogue_compare_mix(photvisdf, 'mopextb', 0.001, con)\n",
    "print time.time() - start"
   ]
  },
  {
   "cell_type": "code",
   "execution_count": 81,
   "metadata": {
    "collapsed": false
   },
   "outputs": [
    {
     "data": {
      "image/png": "[encoded data removed]",
      "text/plain": [
       "<matplotlib.figure.Figure at 0x7ff55b339510>"
      ]
     },
     "metadata": {},
     "output_type": "display_data"
    }
   ],
   "source": [
    "plt.hist(D_mopex_photvis)\n",
    "plt.title(\"Distance Counts of Photvis Detections from Mopex Detections with SQLite\")\n",
    "plt.xlabel(\"Distance\")\n",
    "plt.ylabel(\"Counts\")\n",
    "plt.show()"
   ]
  },
  {
   "cell_type": "code",
   "execution_count": 82,
   "metadata": {
    "collapsed": false
   },
   "outputs": [
    {
     "data": {
      "image/png": "[encoded data removed]",
      "text/plain": [
       "<matplotlib.figure.Figure at 0x7ff55b3fe0d0>"
      ]
     },
     "metadata": {},
     "output_type": "display_data"
    }
   ],
   "source": [
    "plt.hist(D_photvis_mopex)\n",
    "plt.title(\"Distance Counts of Mopex Detections from Photvis Detections with SQLite\")\n",
    "plt.xlabel(\"Distance\")\n",
    "plt.ylabel(\"Counts\")\n",
    "plt.show()"
   ]
  },
  {
   "cell_type": "code",
   "execution_count": null,
   "metadata": {
    "collapsed": true
   },
   "outputs": [],
   "source": []
  }
 ],
 "metadata": {
  "kernelspec": {
   "display_name": "Python 2",
   "language": "python",
   "name": "python2"
  },
  "language_info": {
   "codemirror_mode": {
    "name": "ipython",
    "version": 2
   },
   "file_extension": ".py",
   "mimetype": "text/x-python",
   "name": "python",
   "nbconvert_exporter": "python",
   "pygments_lexer": "ipython2",
   "version": "2.7.13"
  }
 },
 "nbformat": 4,
 "nbformat_minor": 2
}

{
 "cells": [
  {
   "cell_type": "code",
   "execution_count": 248,
   "metadata": {
    "collapsed": false
   },
   "outputs": [],
   "source": [
    "import astropy \n",
    "from astropy.table import Table, Column, join\n",
    "import numpy as np\n",
    "from astropy.coordinates import SkyCoord\n",
    "from astropy import units as u\n",
    "spatial_err = 0.3/3600*u.degree"
   ]
  },
  {
   "cell_type": "code",
   "execution_count": 213,
   "metadata": {
    "collapsed": false
   },
   "outputs": [],
   "source": [
    "#threshold is in units of spatial_err (typically 0.3 arcsec)\n",
    "#we want to merge mag_24 in source into target\n",
    "def coord_merge(target, source, threshold):\n",
    "    tc = SkyCoord(ra=target['ra'], dec=target['dec'])\n",
    "    sc = SkyCoord(ra=source['ra'], dec=source['dec'])\n",
    "    idx, d2d, d3d = sc.match_to_catalog_sky(tc)\n",
    "    #idx is index into tc (target) coordinates that are closest objects to each of the coordinates in sc (source)\n",
    "    #There are as many objects in idx as in source\n",
    "    for i in range(0, len(idx)):\n",
    "        if d2d[i] < threshold * spatial_err:\n",
    "            target['mag_24'][idx[i]] = source['mag_24'][i]\n",
    "            print 'merged'       \n",
    "    return 0"
   ]
  },
  {
   "cell_type": "code",
   "execution_count": 240,
   "metadata": {
    "collapsed": true
   },
   "outputs": [],
   "source": [
    "#compute the minimum separation between two catalogs\n",
    "#for each object in source, find the object in target that is closest\n",
    "#returns min(dist(obj1, obj2)), obj1 in catalog 1, obj2 in catalog 2\n",
    "#The order of the arguments do not change the result, but using the smaller catalog as the second argument will \n",
    "#the function run faster\n",
    "def cat_dist(target, source):\n",
    "    tc = SkyCoord(ra=target['ra'], dec=target['dec'])\n",
    "    sc = SkyCoord(ra=source['ra'], dec=source['dec'])\n",
    "    idx, d2d, d3d = sc.match_to_catalog_sky(tc)\n",
    "    return min(d2d)"
   ]
  },
  {
   "cell_type": "code",
   "execution_count": 245,
   "metadata": {
    "collapsed": true
   },
   "outputs": [],
   "source": [
    "#merge mag_24 in source into target catalog\n",
    "def desig_merge(target, source):\n",
    "    return join(target, source, keys='desig', join_type = 'left')"
   ]
  },
  {
   "cell_type": "code",
   "execution_count": 202,
   "metadata": {
    "collapsed": false
   },
   "outputs": [],
   "source": [
    "g = Table.read('/home/kecai/w49/glimpse_demo.tbl', format='ascii')\n",
    "m = Table.read('/home/kecai/w49/mipsgal_demo.tbl', format='ascii')"
   ]
  },
  {
   "cell_type": "code",
   "execution_count": 252,
   "metadata": {
    "collapsed": false
   },
   "outputs": [],
   "source": [
    "m.rename_column('desig', 'desigation')\n",
    "m.rename_column('mag_24', 'mag24')\n",
    "m.rename_column('sigma_mag_24', 'd24m')"
   ]
  },
  {
   "cell_type": "code",
   "execution_count": 247,
   "metadata": {
    "collapsed": false
   },
   "outputs": [],
   "source": [
    "#strip the 8-character prefix in glimpse designation\n",
    "for i in range(0, len(g['desig'])):\n",
    "    g['desig'][i] = g['desig'][i][8:]"
   ]
  },
  {
   "cell_type": "code",
   "execution_count": 191,
   "metadata": {
    "collapsed": false
   },
   "outputs": [],
   "source": [
    "m_w_desig = m[m['desig'].mask==False]['desig', 'mag_24'] "
   ]
  },
  {
   "cell_type": "code",
   "execution_count": 221,
   "metadata": {
    "collapsed": false
   },
   "outputs": [],
   "source": [
    "m_wo_desig = m[m['desig'].mask==True]['ra', 'dec', 'mag_24']"
   ]
  },
  {
   "cell_type": "code",
   "execution_count": 210,
   "metadata": {
    "collapsed": true
   },
   "outputs": [],
   "source": [
    "merged = join(g, m_w_desig, keys='desig', join_type='left')"
   ]
  },
  {
   "cell_type": "code",
   "execution_count": null,
   "metadata": {
    "collapsed": true
   },
   "outputs": [],
   "source": []
  },
  {
   "cell_type": "code",
   "execution_count": 243,
   "metadata": {
    "collapsed": false
   },
   "outputs": [
    {
     "data": {
      "text/latex": [
       "$0^\\circ00{}^\\prime02.178{}^{\\prime\\prime}$"
      ],
      "text/plain": [
       "<Angle 0.0006050000000005055 deg>"
      ]
     },
     "execution_count": 243,
     "metadata": {},
     "output_type": "execute_result"
    }
   ],
   "source": [
    "cat_dist(g, m_wo_desig)"
   ]
  },
  {
   "cell_type": "code",
   "execution_count": 234,
   "metadata": {
    "collapsed": false
   },
   "outputs": [
    {
     "data": {
      "text/latex": [
       "$0^\\circ00{}^\\prime00.0202{}^{\\prime\\prime}$"
      ],
      "text/plain": [
       "<Angle 5.623651035797921e-06 deg>"
      ]
     },
     "execution_count": 234,
     "metadata": {},
     "output_type": "execute_result"
    }
   ],
   "source": [
    "min(d2d)"
   ]
  },
  {
   "cell_type": "code",
   "execution_count": 212,
   "metadata": {
    "collapsed": false
   },
   "outputs": [
    {
     "name": "stdout",
     "output_type": "stream",
     "text": [
      "[39975 31019 33362 22308 13415 37312 37178 27772 34661 26301  1526  2144\n",
      "  2273 11174 12213   357 40290 41355 34873 38852]\n"
     ]
    },
    {
     "data": {
      "text/plain": [
       "0"
      ]
     },
     "execution_count": 212,
     "metadata": {},
     "output_type": "execute_result"
    }
   ],
   "source": [
    "coord_merge(merged, m_wo_desig, 3)"
   ]
  },
  {
   "cell_type": "code",
   "execution_count": 169,
   "metadata": {
    "collapsed": false
   },
   "outputs": [],
   "source": [
    "gc = SkyCoord(ra=g['ra'], dec=g['dec'])  "
   ]
  },
  {
   "cell_type": "code",
   "execution_count": 170,
   "metadata": {
    "collapsed": true
   },
   "outputs": [],
   "source": [
    "mc = SkyCoord(ra=m_wo_desig['ra'], dec=m_wo_desig['dec'])"
   ]
  },
  {
   "cell_type": "code",
   "execution_count": 153,
   "metadata": {
    "collapsed": true
   },
   "outputs": [],
   "source": [
    "idx, d2d, d3d = mc.match_to_catalog_sky(gc)  "
   ]
  },
  {
   "cell_type": "code",
   "execution_count": 180,
   "metadata": {
    "collapsed": false
   },
   "outputs": [
    {
     "data": {
      "text/plain": [
       "20"
      ]
     },
     "execution_count": 180,
     "metadata": {},
     "output_type": "execute_result"
    }
   ],
   "source": [
    "len(idx)"
   ]
  },
  {
   "cell_type": "code",
   "execution_count": null,
   "metadata": {
    "collapsed": true
   },
   "outputs": [],
   "source": []
  }
 ],
 "metadata": {
  "kernelspec": {
   "display_name": "Python 2",
   "language": "python",
   "name": "python2"
  },
  "language_info": {
   "codemirror_mode": {
    "name": "ipython",
    "version": 2
   },
   "file_extension": ".py",
   "mimetype": "text/x-python",
   "name": "python",
   "nbconvert_exporter": "python",
   "pygments_lexer": "ipython2",
   "version": "2.7.13"
  }
 },
 "nbformat": 4,
 "nbformat_minor": 2
}

{
 "cells": [
  {
   "cell_type": "code",
   "execution_count": 2,
   "metadata": {
    "collapsed": false,
    "deletable": true,
    "editable": true
   },
   "outputs": [],
   "source": [
    "import numpy as np\n",
    "from pandas import Series, DataFrame\n",
    "import pandas as pd\n",
    "import math\n",
    "import matplotlib.pyplot as plt\n",
    "np.set_printoptions(precision=8)"
   ]
  },
  {
   "cell_type": "code",
   "execution_count": 11,
   "metadata": {
    "collapsed": false,
    "deletable": true,
    "editable": true
   },
   "outputs": [],
   "source": [
    "mopex_df = pd.read_csv('/home/kecai/Downloads/r7283968out_overlap/mosaic_extract.tbl', \\\n",
    "                         sep = '\\s+', header = None, skiprows = 70, names = ['RA', 'DEC'], nrows = 1000)\n",
    "photvis_df = pd.read_csv('/home/kecai/Downloads/r7283968out_overlap/photvis_detect.list', \\\n",
    "                     sep = ',', header = None, names = ['RA', 'DEC'])\n",
    "photvis_df_sorted = photvis_df.sort_values(by = 'RA')\n",
    "mopex_df_sorted = mopex_df.sort_values(by = 'RA')\n",
    "#mopex_tb = Table.from_pandas(mopex_df)\n",
    "#photvis_tb = Table.from_pandas(photvis_df)"
   ]
  },
  {
   "cell_type": "code",
   "execution_count": 12,
   "metadata": {
    "collapsed": false,
    "deletable": true,
    "editable": true
   },
   "outputs": [],
   "source": [
    "def catalogue_compare_df(df1, df2, margin):\n",
    "    D = np.empty([len(df1)], dtype = float)\n",
    "    i = 0\n",
    "    for df1_row in df1.itertuples():\n",
    "        min_distance = margin\n",
    "        #print \"row in df1\"\n",
    "        #print df1_row\n",
    "        match = 0\n",
    "        for df2_row in df2[(df2.ix[:,0] > df1_row[1] - margin) \\\n",
    "                          & (df2.ix[:,0] < df1_row[1] + margin) \\\n",
    "                          & (df2.ix[:,1] > df1_row[2] - margin) \\\n",
    "                          & (df2.ix[:,1] < df1_row[2] + margin)].itertuples():\n",
    "            #match = match + 1\n",
    "        #print \"number of matches: \"\n",
    "        #print match\n",
    "            distance = math.sqrt((df1_row[1] - df2_row[1])**2 \\\n",
    "                                + (df1_row[2] - df2_row[2])**2)\n",
    "            if min_distance > distance:\n",
    "                min_distance = distance\n",
    "        if min_distance < margin:\n",
    "            D[i] = min_distance\n",
    "        else:\n",
    "            D[i] = -0.0001\n",
    "        i = i+1\n",
    "    return D"
   ]
  },
  {
   "cell_type": "code",
   "execution_count": 13,
   "metadata": {
    "collapsed": false,
    "deletable": true,
    "editable": true
   },
   "outputs": [
    {
     "name": "stdout",
     "output_type": "stream",
     "text": [
      "5.12120294571\n",
      "4.82129621506\n"
     ]
    }
   ],
   "source": [
    "import time\n",
    "\n",
    "start = time.time()\n",
    "D_df = catalogue_compare_df(mopex_df, photvis_df, 0.001)\n",
    "print time.time() - start\n",
    "\n",
    "\n",
    "\n",
    "start = time.time()\n",
    "D_df_sorted = catalogue_compare_df(mopex_df_sorted, photvis_df_sorted, 0.001)\n",
    "print time.time() - start"
   ]
  },
  {
   "cell_type": "code",
   "execution_count": null,
   "metadata": {
    "collapsed": false,
    "deletable": true,
    "editable": true
   },
   "outputs": [],
   "source": [
    "plt.hist(D_df)\n",
    "plt.title(\"Distance Counts of Photvis Detections from Mopex Detections with DataFrames\")\n",
    "plt.xlabel(\"Distance\")\n",
    "plt.ylabel(\"Counts\")\n",
    "plt.show()"
   ]
  },
  {
   "cell_type": "code",
   "execution_count": null,
   "metadata": {
    "collapsed": true,
    "deletable": true,
    "editable": true
   },
   "outputs": [],
   "source": []
  }
 ],
 "metadata": {
  "kernelspec": {
   "display_name": "Python 2",
   "language": "python",
   "name": "python2"
  },
  "language_info": {
   "codemirror_mode": {
    "name": "ipython",
    "version": 2
   },
   "file_extension": ".py",
   "mimetype": "text/x-python",
   "name": "python",
   "nbconvert_exporter": "python",
   "pygments_lexer": "ipython2",
   "version": "2.7.13"
  }
 },
 "nbformat": 4,
 "nbformat_minor": 2
}

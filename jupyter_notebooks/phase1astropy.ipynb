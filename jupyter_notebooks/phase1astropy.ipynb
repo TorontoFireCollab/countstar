{
 "cells": [
  {
   "cell_type": "code",
   "execution_count": null,
   "metadata": {
    "collapsed": true
   },
   "outputs": [],
   "source": [
    "import astropy \n",
    "from astropy.table import Table, Column\n",
    "import numpy as np\n",
    "import math"
   ]
  },
  {
   "cell_type": "code",
   "execution_count": null,
   "metadata": {
    "collapsed": true
   },
   "outputs": [],
   "source": [
    "def init(g, dmag):\n",
    "    f = g[(g['m5_8'].mask == False) &\n",
    "          (g['m8_0'].mask == False) &\n",
    "          (g['d3_6'] < dmag) &\n",
    "          (g['d4_5'] < dmag) &\n",
    "          (g['d5_8'] < dmag) &\n",
    "          (g['d8_0'] < dmag)]['desig', 'm3_6', 'm4_5', 'm5_8', 'm8_0']\n",
    "    return f"
   ]
  },
  {
   "cell_type": "code",
   "execution_count": null,
   "metadata": {
    "collapsed": true
   },
   "outputs": [],
   "source": [
    "def extract_19(s):\n",
    "    t = Table()\n",
    "    id_col = s[((s['m4_5'] - s['m5_8'] < (1.05/1.2) * (s['m5_8'] - s['m8_0'] - 1)) &\n",
    "           (s['m4_5'] - s['m5_8'] < 1.05) &\n",
    "           (s['m5_8'] - s['m8_0'] > 1) &\n",
    "           (s['m4_5'] > 11.5)) \n",
    "          |\n",
    "          ((s['m3_6'] - s['m5_8'] < (1.5/2) * (s['m4_5'] - s['m8_0'] -1)) &\n",
    "           (s['m3_6'] - s['m5_8'] < 1.5) &\n",
    "           (s['m4_5'] - s['m8_0'] > 1) &\n",
    "           (s['m4_5'] > 11.5))\n",
    "          ]['desig']\n",
    "    type_col = Column(np.full((len(id_col)), 19, dtype = int), name = 'Type')\n",
    "    phase_col = Column(np.full((len(id_col)), 1, dtype = int), name = 'Phase')\n",
    "    t.add_columns([id_col, type_col, phase_col])\n",
    "    return 0"
   ]
  }
 ],
 "metadata": {
  "kernelspec": {
   "display_name": "Python 2",
   "language": "python",
   "name": "python2"
  },
  "language_info": {
   "codemirror_mode": {
    "name": "ipython",
    "version": 2
   },
   "file_extension": ".py",
   "mimetype": "text/x-python",
   "name": "python",
   "nbconvert_exporter": "python",
   "pygments_lexer": "ipython2",
   "version": "2.7.13"
  }
 },
 "nbformat": 4,
 "nbformat_minor": 2
}

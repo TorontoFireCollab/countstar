{
 "cells": [
  {
   "cell_type": "code",
   "execution_count": 4,
   "metadata": {
    "collapsed": false,
    "deletable": true,
    "editable": true
   },
   "outputs": [],
   "source": [
    "import catalog_util_astro as cua\n",
    "import astropy \n",
    "from astropy.table import Table, Column, join\n",
    "import numpy as np\n",
    "from astropy.coordinates import SkyCoord\n",
    "from astropy import units as u"
   ]
  },
  {
   "cell_type": "code",
   "execution_count": 2,
   "metadata": {
    "collapsed": true,
    "deletable": true,
    "editable": true
   },
   "outputs": [],
   "source": [
    "#Typical ETL Process for Catalog Data downloaded from GATOR. \n",
    "#The goal is to read glimpse and mipsgal catalog into astropy tables and merge mipsgal table into glimpse table.\n",
    "#The result should be a table containing objects with magnitude and magnitude uncertainties at \n",
    "#3.6, 4.5, 5.8, 8.0 microns, JHK bands and 24 microns "
   ]
  },
  {
   "cell_type": "code",
   "execution_count": 5,
   "metadata": {
    "collapsed": false,
    "deletable": true,
    "editable": true
   },
   "outputs": [],
   "source": [
    "#1. Read tables from files\n",
    "\n",
    "#Read glimpse catalog\n",
    "g = Table.read('/home/kecai/w49/glimpse_demo.tbl', format='ascii')\n",
    "\n",
    "#Read mipsgal catalog\n",
    "m = Table.read('/home/kecai/w49/mipsgal_demo.tbl', format='ascii')"
   ]
  },
  {
   "cell_type": "code",
   "execution_count": 6,
   "metadata": {
    "collapsed": true,
    "deletable": true,
    "editable": true
   },
   "outputs": [],
   "source": [
    "#2. Rename columns of the mipsgal table.\n",
    "#We follow the naming convention of glimpse catalog\n",
    "m.rename_column('glimpse_name', 'designation')\n",
    "m.rename_column('mag_24', 'mag24')\n",
    "m.rename_column('sigma_mag_24', 'd24m')"
   ]
  },
  {
   "cell_type": "code",
   "execution_count": 8,
   "metadata": {
    "collapsed": false,
    "deletable": true,
    "editable": true
   },
   "outputs": [],
   "source": [
    "#3. Strip the 8-character prefix in glimpse designation\n",
    "for i in range(0, len(g['designation'])):\n",
    "    g['designation'][i] = g['designation'][i][8:]"
   ]
  },
  {
   "cell_type": "code",
   "execution_count": 12,
   "metadata": {
    "collapsed": false,
    "deletable": true,
    "editable": true
   },
   "outputs": [],
   "source": [
    "#4. Split mipsgal catalog into two parts: \n",
    "\n",
    "#a part containing objects that have glimpse names\n",
    "#this part will be merged into glimpse catalog by designation\n",
    "ma = m[m['designation'].mask==False]['designation', 'mag24', 'd24m'] \n",
    "\n",
    "#a part containing objects that do not have glimpse names\n",
    "#this part will be merged into glimpse catalog by matching objects with separation less than a user defined threshold.\n",
    "mb = m[m['designation'].mask==True]['ra', 'dec', 'mag24', 'd24m']"
   ]
  },
  {
   "cell_type": "code",
   "execution_count": 14,
   "metadata": {
    "collapsed": false,
    "deletable": true,
    "editable": true
   },
   "outputs": [],
   "source": [
    "#Use desig_merge function to merge ma into g. \n",
    "#desig_merge returns a new table containing merged data\n",
    "merged = cua.desig_merge(g, ma)"
   ]
  },
  {
   "cell_type": "code",
   "execution_count": 15,
   "metadata": {
    "collapsed": false,
    "deletable": true,
    "editable": true
   },
   "outputs": [
    {
     "data": {
      "text/latex": [
       "$0^\\circ00{}^\\prime02.178{}^{\\prime\\prime}$"
      ],
      "text/plain": [
       "<Angle 0.0006050000000005055 deg>"
      ]
     },
     "execution_count": 15,
     "metadata": {},
     "output_type": "execute_result"
    }
   ],
   "source": [
    "#To merge mb into g, first compute the distance mb and g. \n",
    "#Only when it is small enough do we have the need to merge mb into g.  \n",
    "cua.cat_dist(g, mb)"
   ]
  },
  {
   "cell_type": "code",
   "execution_count": 16,
   "metadata": {
    "collapsed": false,
    "deletable": true,
    "editable": true
   },
   "outputs": [
    {
     "data": {
      "text/plain": [
       "0"
      ]
     },
     "execution_count": 16,
     "metadata": {},
     "output_type": "execute_result"
    }
   ],
   "source": [
    "#If we do decide to merge mb into g, need to merge mb into the table returned by desig_merge\n",
    "#The third argument is the threshold separation between objects, in units of spatial_err, such that\n",
    "#If separation between two objects < threshold * spatial_err, the two objects will be considered the same\n",
    "#And 24 micron detection in mb will be updated into merged\n",
    "cua.coord_merge(merged, mb, 1)\n",
    "\n",
    "#After this step, merged will be the table we can perform analysis on. "
   ]
  },
  {
   "cell_type": "code",
   "execution_count": 17,
   "metadata": {
    "collapsed": false,
    "deletable": true,
    "editable": true
   },
   "outputs": [
    {
     "data": {
      "text/html": [
       "&lt;Table masked=True length=45584&gt;\n",
       "<table id=\"table140001885312848\" class=\"table-striped table-bordered table-condensed\">\n",
       "<thead><tr><th>designation</th><th>ra</th><th>dec</th><th>mag_j</th><th>dj_m</th><th>mag_h</th><th>dh_m</th><th>mag_ks</th><th>dks_m</th><th>mag3_6</th><th>d3_6m</th><th>mag4_5</th><th>d4_5m</th><th>mag5_8</th><th>d5_8m</th><th>mag8_0</th><th>d8_0m</th><th>color36_45</th><th>color36_58</th><th>color36_80</th><th>color45_58</th><th>color45_80</th><th>color58_80</th></tr></thead>\n",
       "<thead><tr><th></th><th>deg</th><th>deg</th><th>mag</th><th>mag</th><th>mag</th><th>mag</th><th>mag</th><th>mag</th><th>mag</th><th>mag</th><th>mag</th><th>mag</th><th>mag</th><th>mag</th><th>mag</th><th>mag</th><th></th><th></th><th></th><th></th><th></th><th></th></tr></thead>\n",
       "<thead><tr><th>str25</th><th>float64</th><th>float64</th><th>float64</th><th>float64</th><th>float64</th><th>float64</th><th>float64</th><th>float64</th><th>float64</th><th>float64</th><th>float64</th><th>float64</th><th>float64</th><th>float64</th><th>float64</th><th>float64</th><th>float64</th><th>float64</th><th>float64</th><th>float64</th><th>float64</th><th>float64</th></tr></thead>\n",
       "<tr><td>G042.3083-00.0663</td><td>287.224914</td><td>8.306492</td><td>11.842</td><td>0.023</td><td>11.239</td><td>0.027</td><td>11.024</td><td>0.023</td><td>10.86</td><td>0.057</td><td>10.781</td><td>0.098</td><td>10.755</td><td>0.062</td><td>10.686</td><td>0.07</td><td>0.079</td><td>0.105</td><td>0.174</td><td>0.026</td><td>0.095</td><td>0.069</td></tr>\n",
       "<tr><td>G042.3109-00.0668</td><td>287.226641</td><td>8.308583</td><td>--</td><td>--</td><td>14.428</td><td>0.077</td><td>13.883</td><td>0.069</td><td>13.552</td><td>0.073</td><td>13.324</td><td>0.136</td><td>--</td><td>--</td><td>--</td><td>--</td><td>0.228</td><td>--</td><td>--</td><td>--</td><td>--</td><td>--</td></tr>\n",
       "<tr><td>G042.3099-00.0668</td><td>287.226146</td><td>8.307731</td><td>--</td><td>--</td><td>14.62</td><td>0.11</td><td>14.003</td><td>0.106</td><td>13.274</td><td>0.08</td><td>13.192</td><td>0.146</td><td>--</td><td>--</td><td>--</td><td>--</td><td>0.082</td><td>--</td><td>--</td><td>--</td><td>--</td><td>--</td></tr>\n",
       "<tr><td>G042.3150-00.0632</td><td>287.225257</td><td>8.313943</td><td>--</td><td>--</td><td>--</td><td>--</td><td>--</td><td>--</td><td>13.798</td><td>0.094</td><td>13.66</td><td>0.167</td><td>--</td><td>--</td><td>--</td><td>--</td><td>0.138</td><td>--</td><td>--</td><td>--</td><td>--</td><td>--</td></tr>\n",
       "<tr><td>G042.3122-00.0662</td><td>287.226687</td><td>8.309985</td><td>--</td><td>--</td><td>--</td><td>--</td><td>--</td><td>--</td><td>12.174</td><td>0.046</td><td>11.976</td><td>0.089</td><td>11.745</td><td>0.124</td><td>--</td><td>--</td><td>0.198</td><td>0.429</td><td>--</td><td>0.231</td><td>--</td><td>--</td></tr>\n",
       "<tr><td>G042.3111-00.0644</td><td>287.224573</td><td>8.309867</td><td>15.909</td><td>0.085</td><td>15.197</td><td>0.103</td><td>14.618</td><td>0.108</td><td>13.764</td><td>0.105</td><td>--</td><td>--</td><td>--</td><td>--</td><td>--</td><td>--</td><td>--</td><td>--</td><td>--</td><td>--</td><td>--</td><td>--</td></tr>\n",
       "<tr><td>G042.3103-00.0627</td><td>287.222672</td><td>8.30991</td><td>--</td><td>--</td><td>--</td><td>--</td><td>--</td><td>--</td><td>13.648</td><td>0.084</td><td>13.352</td><td>0.165</td><td>--</td><td>--</td><td>--</td><td>--</td><td>0.296</td><td>--</td><td>--</td><td>--</td><td>--</td><td>--</td></tr>\n",
       "<tr><td>G042.3300-00.0265</td><td>287.199352</td><td>8.344129</td><td>--</td><td>--</td><td>--</td><td>--</td><td>14.369</td><td>0.094</td><td>13.104</td><td>0.071</td><td>12.967</td><td>0.075</td><td>--</td><td>--</td><td>--</td><td>--</td><td>0.137</td><td>--</td><td>--</td><td>--</td><td>--</td><td>--</td></tr>\n",
       "<tr><td>G042.3249-00.0294</td><td>287.199536</td><td>8.338273</td><td>--</td><td>--</td><td>--</td><td>--</td><td>--</td><td>--</td><td>14.264</td><td>0.087</td><td>14.119</td><td>0.176</td><td>--</td><td>--</td><td>--</td><td>--</td><td>0.145</td><td>--</td><td>--</td><td>--</td><td>--</td><td>--</td></tr>\n",
       "<tr><td>...</td><td>...</td><td>...</td><td>...</td><td>...</td><td>...</td><td>...</td><td>...</td><td>...</td><td>...</td><td>...</td><td>...</td><td>...</td><td>...</td><td>...</td><td>...</td><td>...</td><td>...</td><td>...</td><td>...</td><td>...</td><td>...</td><td>...</td></tr>\n",
       "<tr><td>G042.3173-00.0617</td><td>287.225049</td><td>8.316614</td><td>--</td><td>--</td><td>--</td><td>--</td><td>--</td><td>--</td><td>12.805</td><td>0.105</td><td>12.867</td><td>0.154</td><td>--</td><td>--</td><td>--</td><td>--</td><td>-0.062</td><td>--</td><td>--</td><td>--</td><td>--</td><td>--</td></tr>\n",
       "<tr><td>G042.3179-00.0610</td><td>287.224694</td><td>8.317457</td><td>--</td><td>--</td><td>13.261</td><td>0.047</td><td>11.357</td><td>0.046</td><td>10.033</td><td>0.041</td><td>9.966</td><td>0.052</td><td>9.465</td><td>0.037</td><td>9.456</td><td>0.042</td><td>0.067</td><td>0.568</td><td>0.577</td><td>0.501</td><td>0.51</td><td>0.009</td></tr>\n",
       "<tr><td>G042.3171-00.0573</td><td>287.221007</td><td>8.318466</td><td>13.701</td><td>0.027</td><td>13.045</td><td>0.035</td><td>12.669</td><td>0.039</td><td>12.435</td><td>0.061</td><td>12.242</td><td>0.102</td><td>12.652</td><td>0.326</td><td>--</td><td>--</td><td>0.193</td><td>-0.217</td><td>--</td><td>-0.41</td><td>--</td><td>--</td></tr>\n",
       "<tr><td>G042.3046-00.0612</td><td>287.218633</td><td>8.305592</td><td>9.601</td><td>0.023</td><td>7.813</td><td>0.038</td><td>7.028</td><td>0.022</td><td>--</td><td>--</td><td>--</td><td>--</td><td>6.248</td><td>0.032</td><td>6.16</td><td>0.029</td><td>--</td><td>--</td><td>--</td><td>--</td><td>--</td><td>0.088</td></tr>\n",
       "<tr><td>G042.3034-00.0613</td><td>287.21815</td><td>8.304516</td><td>--</td><td>--</td><td>--</td><td>--</td><td>--</td><td>--</td><td>11.66</td><td>0.189</td><td>--</td><td>--</td><td>11.577</td><td>0.204</td><td>10.969</td><td>0.311</td><td>--</td><td>0.083</td><td>0.691</td><td>--</td><td>--</td><td>0.608</td></tr>\n",
       "<tr><td>G042.3057-00.0571</td><td>287.215519</td><td>8.308469</td><td>11.846</td><td>0.023</td><td>11.262999</td><td>0.03</td><td>11.068</td><td>0.028</td><td>10.926</td><td>0.041</td><td>--</td><td>--</td><td>10.936</td><td>0.087</td><td>10.839</td><td>0.07</td><td>--</td><td>-0.01</td><td>0.087</td><td>--</td><td>--</td><td>0.097</td></tr>\n",
       "<tr><td>G042.3089-00.0609</td><td>287.220382</td><td>8.309531</td><td>14.286</td><td>0.023</td><td>13.697</td><td>0.031</td><td>13.457</td><td>0.043</td><td>13.091</td><td>0.086</td><td>--</td><td>--</td><td>--</td><td>--</td><td>--</td><td>--</td><td>--</td><td>--</td><td>--</td><td>--</td><td>--</td><td>--</td></tr>\n",
       "<tr><td>G042.3053-00.0593</td><td>287.217304</td><td>8.307073</td><td>--</td><td>--</td><td>12.168</td><td>0.022</td><td>11.618</td><td>0.019</td><td>11.361</td><td>0.065</td><td>--</td><td>--</td><td>11.198</td><td>0.125</td><td>11.381</td><td>0.202</td><td>--</td><td>0.163</td><td>-0.02</td><td>--</td><td>--</td><td>-0.183</td></tr>\n",
       "<tr><td>G042.3066-00.0600</td><td>287.21855</td><td>8.307929</td><td>--</td><td>--</td><td>--</td><td>--</td><td>13.031</td><td>0.302</td><td>12.319</td><td>0.107</td><td>--</td><td>--</td><td>12.238</td><td>0.195</td><td>11.748</td><td>0.215</td><td>--</td><td>0.081</td><td>0.571</td><td>--</td><td>--</td><td>0.49</td></tr>\n",
       "<tr><td>G042.3109-00.0599</td><td>287.22041</td><td>8.311809</td><td>--</td><td>--</td><td>--</td><td>--</td><td>--</td><td>--</td><td>13.481</td><td>0.067</td><td>13.153</td><td>0.139</td><td>12.353</td><td>0.248</td><td>--</td><td>--</td><td>0.328</td><td>1.128</td><td>--</td><td>0.8</td><td>--</td><td>--</td></tr>\n",
       "</table>"
      ],
      "text/plain": [
       "<Table masked=True length=45584>\n",
       "   designation        ra       dec    ... color45_58 color45_80 color58_80\n",
       "                     deg       deg    ...                                 \n",
       "      str25        float64   float64  ...  float64    float64    float64  \n",
       "----------------- ---------- -------- ... ---------- ---------- ----------\n",
       "G042.3083-00.0663 287.224914 8.306492 ...      0.026      0.095      0.069\n",
       "G042.3109-00.0668 287.226641 8.308583 ...         --         --         --\n",
       "G042.3099-00.0668 287.226146 8.307731 ...         --         --         --\n",
       "G042.3150-00.0632 287.225257 8.313943 ...         --         --         --\n",
       "G042.3122-00.0662 287.226687 8.309985 ...      0.231         --         --\n",
       "G042.3111-00.0644 287.224573 8.309867 ...         --         --         --\n",
       "G042.3103-00.0627 287.222672  8.30991 ...         --         --         --\n",
       "G042.3300-00.0265 287.199352 8.344129 ...         --         --         --\n",
       "G042.3249-00.0294 287.199536 8.338273 ...         --         --         --\n",
       "              ...        ...      ... ...        ...        ...        ...\n",
       "G042.3173-00.0617 287.225049 8.316614 ...         --         --         --\n",
       "G042.3179-00.0610 287.224694 8.317457 ...      0.501       0.51      0.009\n",
       "G042.3171-00.0573 287.221007 8.318466 ...      -0.41         --         --\n",
       "G042.3046-00.0612 287.218633 8.305592 ...         --         --      0.088\n",
       "G042.3034-00.0613  287.21815 8.304516 ...         --         --      0.608\n",
       "G042.3057-00.0571 287.215519 8.308469 ...         --         --      0.097\n",
       "G042.3089-00.0609 287.220382 8.309531 ...         --         --         --\n",
       "G042.3053-00.0593 287.217304 8.307073 ...         --         --     -0.183\n",
       "G042.3066-00.0600  287.21855 8.307929 ...         --         --       0.49\n",
       "G042.3109-00.0599  287.22041 8.311809 ...        0.8         --         --"
      ]
     },
     "execution_count": 17,
     "metadata": {},
     "output_type": "execute_result"
    }
   ],
   "source": [
    "g"
   ]
  },
  {
   "cell_type": "code",
   "execution_count": null,
   "metadata": {
    "collapsed": true
   },
   "outputs": [],
   "source": []
  }
 ],
 "metadata": {
  "kernelspec": {
   "display_name": "Python 2",
   "language": "python",
   "name": "python2"
  },
  "language_info": {
   "codemirror_mode": {
    "name": "ipython",
    "version": 2
   },
   "file_extension": ".py",
   "mimetype": "text/x-python",
   "name": "python",
   "nbconvert_exporter": "python",
   "pygments_lexer": "ipython2",
   "version": "2.7.13"
  }
 },
 "nbformat": 4,
 "nbformat_minor": 2
}

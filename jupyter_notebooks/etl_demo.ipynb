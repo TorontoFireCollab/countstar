{
 "cells": [
  {
   "cell_type": "code",
   "execution_count": null,
   "metadata": {
    "collapsed": false,
    "deletable": true,
    "editable": true
   },
   "outputs": [],
   "source": [
    "import catalog_util_astro as cua\n",
    "import astropy \n",
    "from astropy.table import Table, Column, join\n",
    "import numpy as np\n",
    "from astropy.coordinates import SkyCoord\n",
    "from astropy import units as u"
   ]
  },
  {
   "cell_type": "code",
   "execution_count": null,
   "metadata": {
    "collapsed": true,
    "deletable": true,
    "editable": true
   },
   "outputs": [],
   "source": [
    "#Typical ETL Process for Catalog Data downloaded from GATOR. \n",
    "#The goal is to read glimpse and mipsgal catalog into astropy tables and merge mipsgal table into glimpse table.\n",
    "#The result should be a table containing objects with magnitude and magnitude uncertainties at \n",
    "#3.6, 4.5, 5.8, 8.0 microns, JHK bands and 24 microns "
   ]
  },
  {
   "cell_type": "code",
   "execution_count": null,
   "metadata": {
    "collapsed": false,
    "deletable": true,
    "editable": true
   },
   "outputs": [],
   "source": [
    "#1. Read tables from files\n",
    "\n",
    "#Read glimpse catalog\n",
    "g = Table.read('/home/caike/countstar/demo/data/glimpse_demo.tbl', format='ascii')\n",
    "\n",
    "#Read mipsgal catalog\n",
    "m = Table.read('/home/caike/countstar/demo/data/mipsgal_demo.tbl', format='ascii')"
   ]
  },
  {
   "cell_type": "code",
   "execution_count": null,
   "metadata": {
    "collapsed": true,
    "deletable": true,
    "editable": true
   },
   "outputs": [],
   "source": [
    "#2. Rename columns of the mipsgal table.\n",
    "#We follow the naming convention of glimpse catalog\n",
    "m.rename_column('glimpse_name', 'designation')\n",
    "m.rename_column('mag_24', 'mag24')\n",
    "m.rename_column('sigma_mag_24', 'd24m')"
   ]
  },
  {
   "cell_type": "code",
   "execution_count": null,
   "metadata": {
    "collapsed": false,
    "deletable": true,
    "editable": true
   },
   "outputs": [],
   "source": [
    "#3. Strip the 8-character prefix in glimpse designation\n",
    "for i in range(0, len(g['designation'])):\n",
    "    g['designation'][i] = g['designation'][i][8:]"
   ]
  },
  {
   "cell_type": "code",
   "execution_count": null,
   "metadata": {
    "collapsed": false,
    "deletable": true,
    "editable": true
   },
   "outputs": [],
   "source": [
    "#4. Split mipsgal catalog into two parts: \n",
    "\n",
    "#a part containing objects that have glimpse names\n",
    "#this part will be merged into glimpse catalog by designation\n",
    "ma = m[m['designation'].mask==False]['designation', 'mag24', 'd24m'] \n",
    "\n",
    "#a part containing objects that do not have glimpse names\n",
    "#this part will be merged into glimpse catalog by matching objects with separation less than a user defined threshold.\n",
    "mb = m[m['designation'].mask==True]['ra', 'dec', 'mag24', 'd24m']"
   ]
  },
  {
   "cell_type": "code",
   "execution_count": null,
   "metadata": {
    "collapsed": false,
    "deletable": true,
    "editable": true
   },
   "outputs": [],
   "source": [
    "#Use desig_merge function to merge ma into g. \n",
    "#desig_merge returns a new table containing merged data\n",
    "merged = cua.desig_merge(g, ma)"
   ]
  },
  {
   "cell_type": "code",
   "execution_count": null,
   "metadata": {
    "collapsed": false,
    "deletable": true,
    "editable": true
   },
   "outputs": [],
   "source": [
    "#To merge mb into g, first compute the distance mb and g. \n",
    "#Only when it is small enough do we have the need to merge mb into g.  \n",
    "cua.cat_dist(g, mb)"
   ]
  },
  {
   "cell_type": "code",
   "execution_count": null,
   "metadata": {
    "collapsed": false,
    "deletable": true,
    "editable": true
   },
   "outputs": [],
   "source": [
    "#If we do decide to merge mb into g, need to merge mb into the table returned by desig_merge\n",
    "#The third argument is the threshold separation between objects, in units of spatial_err, such that\n",
    "#If separation between two objects < threshold * spatial_err, the two objects will be considered the same\n",
    "#And 24 micron detection in mb will be updated into merged\n",
    "cua.coord_merge(merged, mb, 1)\n",
    "\n",
    "#After this step, merged will be the table we can perform analysis on. "
   ]
  }
 ],
 "metadata": {
  "kernelspec": {
   "display_name": "Python [py27]",
   "language": "python",
   "name": "Python [py27]"
  },
  "language_info": {
   "codemirror_mode": {
    "name": "ipython",
    "version": 2
   },
   "file_extension": ".py",
   "mimetype": "text/x-python",
   "name": "python",
   "nbconvert_exporter": "python",
   "pygments_lexer": "ipython2",
   "version": "2.7.12"
  }
 },
 "nbformat": 4,
 "nbformat_minor": 2
}

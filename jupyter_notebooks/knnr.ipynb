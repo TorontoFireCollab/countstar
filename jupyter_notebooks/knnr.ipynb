{
 "cells": [
  {
   "cell_type": "code",
   "execution_count": 1,
   "metadata": {
    "collapsed": true
   },
   "outputs": [],
   "source": [
    "import pandas as pd\n",
    "import pandas.io.sql as pd_sql\n",
    "import sqlite3 as sql\n",
    "import numpy as np\n",
    "from pandas import Series, DataFrame\n",
    "import math\n",
    "import matplotlib.pyplot as plt\n",
    "np.set_printoptions(precision=8)\n",
    "import time\n"
   ]
  },
  {
   "cell_type": "code",
   "execution_count": null,
   "metadata": {
    "collapsed": true
   },
   "outputs": [],
   "source": []
  },
  {
   "cell_type": "code",
   "execution_count": 58,
   "metadata": {
    "collapsed": true
   },
   "outputs": [],
   "source": [
    "#nnd: nearest neighbor distance\n",
    "#nnd uses con, which can be a connection to a database or to memory, to access t1 and t2\n",
    "#for each source in t1, nnd looks for the distance to its nearest neighbor in t2, within a user specified radius r\n",
    "#user needs to provide columns of x, y coordinates in t1 and t2\n",
    "def nnd(con, t1, t1x, t1y, t2, t2x, t2y, r):\n",
    "    cur1 = con.cursor()\n",
    "    cur1.execute('''SELECT COUNT(*) FROM ''' + t1)\n",
    "    t1_len = cur1.fetchone()[0]\n",
    "    D = np.empty([t1_len], dtype = float)\n",
    "    i = 0\n",
    "\n",
    "    for r1 in cur1.execute('''SELECT '''+t1x+''','''+t1y+''' FROM '''+t1):\n",
    "        min_dist = r\n",
    "        cur2 = con.cursor()\n",
    "        bounds = [r1[0] - r, r1[0] + r, r1[1] - r, r1[1] + r]\n",
    "        for r2 in cur2.execute('''SELECT * FROM ''' + t2 + ''' WHERE '''+ \n",
    "                                     t2x +''' > ? and '''+t2x+''' < ? and '''+\n",
    "                                     t2y +''' > ? and '''+t2y+''' < ?''', bounds):\n",
    "            dist = math.sqrt((r1[0] - r2[0])**2 + (r1[1] - r2[1])**2)\n",
    "            if min_dist > dist:\n",
    "                min_dist = dist\n",
    "        if min_dist < r:\n",
    "            D[i] = min_dist\n",
    "        else:\n",
    "            D[i] = -0.0001\n",
    "        i = i+1\n",
    "    return D"
   ]
  },
  {
   "cell_type": "code",
   "execution_count": 62,
   "metadata": {
    "collapsed": false
   },
   "outputs": [
    {
     "name": "stdout",
     "output_type": "stream",
     "text": [
      "DONE READING FROM HARDDRIVE\n",
      "4.53305792809\n",
      "DONE WRITING TO MEMORY\n",
      "5.45660710335\n",
      "DONE CREATING INDICES\n",
      "2.74847197533\n",
      "ALL DONE\n",
      "210.293288946\n"
     ]
    }
   ],
   "source": [
    "start = time.time()\n",
    "con_mem = sql.connect(':memory:')\n",
    "con = sql.connect('/home/kecai/w49/w49.db')\n",
    "df1 = pd.read_sql('''SELECT ra, dec FROM glimpse1_irac''', con)\n",
    "df2 = pd.read_sql('''SELECT ra, dec FROM gutermuth''', con )\n",
    "print \"DONE READING FROM HARDDRIVE\"\n",
    "print time.time() - start\n",
    "start = time.time()\n",
    "\n",
    "df1.to_sql('glimpse1_irac', con_mem)\n",
    "df2.to_sql('gutermuth', con_mem)\n",
    "print \"DONE WRITING TO MEMORY\"\n",
    "print time.time() - start\n",
    "start = time.time()\n",
    "\n",
    "cur = con_mem.cursor()\n",
    "cur.execute('''CREATE INDEX in1 ON glimpse1_irac (ra, dec)''')\n",
    "cur.execute('''CREATE INDEX in2 ON gutermuth (ra, dec)''')\n",
    "print \"DONE CREATING INDICES\"\n",
    "print time.time() - start\n",
    "start = time.time()\n",
    "\n",
    "D = nnd(con_mem, 'glimpse1_irac', 'ra', 'dec', 'gutermuth', 'ra', 'dec', 0.003)\n",
    "print \"ALL DONE\"\n",
    "print time.time() - start\n",
    "start = time.time()\n",
    "\n",
    "#start = time.time()\n",
    "#glimpse1_dist = nnd(con, 'glimpse1_irac', 'ra', 'dec', 'gut_classI', 'ra', 'dec', 0.003)\n",
    "#print time.time() - start\n",
    "\n",
    "#start = time.time()\n",
    "#gutermuth_dist = catalogue_compare_sql('gutermuth', 'glimpse1', 0.003, con)\n",
    "#print time.time() - start"
   ]
  },
  {
   "cell_type": "code",
   "execution_count": 66,
   "metadata": {
    "collapsed": false
   },
   "outputs": [
    {
     "data": {
      "text/plain": [
       "0"
      ]
     },
     "execution_count": 66,
     "metadata": {},
     "output_type": "execute_result"
    }
   ],
   "source": [
    "(D>0).sum()"
   ]
  },
  {
   "cell_type": "code",
   "execution_count": 64,
   "metadata": {
    "collapsed": false
   },
   "outputs": [
    {
     "data": {
      "image/png": "[encoded data removed]",
      "text/plain": [
       "<matplotlib.figure.Figure at 0x7f7ad7b47a90>"
      ]
     },
     "metadata": {},
     "output_type": "display_data"
    }
   ],
   "source": [
    "plt.figure(1)\n",
    "plt.subplot(1,1,1)\n",
    "plt.hist(D, bins = 20)\n",
    "plt.ylabel(\"glimpse1 vs gutermuth\")\n",
    "\n",
    "plt.savefig('/home/kecai/w49/glimpse1_vs_gutermuth')\n",
    "plt.show()"
   ]
  },
  {
   "cell_type": "code",
   "execution_count": 39,
   "metadata": {
    "collapsed": false
   },
   "outputs": [
    {
     "name": "stdout",
     "output_type": "stream",
     "text": [
      "[(0, 0, 287.597913, 8.788843, 0.3, 0.3, 9.442, 0.038, 9.33, 0.039, 8.96, 0.039, 9.007, 0.027, 0.112, 0.482, 0.435, 0.37, 0.323, -0.047), (1, 1, 287.597944, 8.790369, 0.3, 0.3, 13.345, 0.119, 13.205, 0.159, None, None, None, None, 0.14, None, None, None, None, None), (2, 2, 287.597519, 8.792183999999999, 0.3, 0.3, 8.338, 0.042, 8.358, 0.039, 8.3, 0.037, 8.266, 0.025, -0.02, 0.038, 0.072, 0.058, 0.092, 0.034), (3, 3, 287.60362000000003, 8.784277000000001, 0.3, 0.3, 13.453, 0.079, 13.309, 0.141, None, None, None, None, 0.144, None, None, None, None, None), (4, 4, 287.600759, 8.786649, 0.3, 0.3, 12.125, 0.039, 11.923, 0.076, 11.574, 0.1, 11.452, 0.106, 0.202, 0.551, 0.673, 0.349, 0.471, 0.122)]\n"
     ]
    }
   ],
   "source": [
    "#con = sql.connect('/home/kecai/w49/w49.db')\n",
    "#df = pd.read_sql('''SELECT ra, dec FROM glimpse1_mini''', con)\n",
    "#memcon = sql.connect(':memory')\n",
    "#df.to_sql('glimpse_mini_position', memcon, if_exists = 'replace',index = True)\n",
    "#cur = memcon.cursor()\n",
    "#cur.execute('''select * from glimpse_mini_position''')\n",
    "#print cur.fetchall()"
   ]
  },
  {
   "cell_type": "code",
   "execution_count": 31,
   "metadata": {
    "collapsed": false
   },
   "outputs": [
    {
     "name": "stdout",
     "output_type": "stream",
     "text": [
      "[(0, 287.597913, 8.788843, 0.3, 0.3, 9.442, 0.038, 9.33, 0.039, 8.96, 0.039, 9.007, 0.027, 0.112, 0.482, 0.435, 0.37, 0.323, -0.047), (1, 287.597944, 8.790369, 0.3, 0.3, 13.345, 0.119, 13.205, 0.159, None, None, None, None, 0.14, None, None, None, None, None), (2, 287.597519, 8.792183999999999, 0.3, 0.3, 8.338, 0.042, 8.358, 0.039, 8.3, 0.037, 8.266, 0.025, -0.02, 0.038, 0.072, 0.058, 0.092, 0.034), (3, 287.60362000000003, 8.784277000000001, 0.3, 0.3, 13.453, 0.079, 13.309, 0.141, None, None, None, None, 0.144, None, None, None, None, None), (4, 287.600759, 8.786649, 0.3, 0.3, 12.125, 0.039, 11.923, 0.076, 11.574, 0.1, 11.452, 0.106, 0.202, 0.551, 0.673, 0.349, 0.471, 0.122)]\n"
     ]
    }
   ],
   "source": [
    "#cur1 = con.cursor()\n",
    "#cur1.execute('''select * from glimpse1_mini''')\n",
    "#print cur1.fetchall()"
   ]
  },
  {
   "cell_type": "code",
   "execution_count": 50,
   "metadata": {
    "collapsed": false
   },
   "outputs": [],
   "source": [
    "def dummy(db, t1, t1x, t1y):\n",
    "    #t1 = scrub(table1)\n",
    "    #t2 = scrub(table2)\n",
    "    con = sql.connect(db)\n",
    "    \n",
    "    df = pd.read_sql('''SELECT '''+t1x+''','''+t1y+''' FROM '''+t1, con)\n",
    "    df.to_sql('t1', con)\n",
    "    return df"
   ]
  },
  {
   "cell_type": "code",
   "execution_count": 51,
   "metadata": {
    "collapsed": false
   },
   "outputs": [
    {
     "data": {
      "text/plain": [
       "5"
      ]
     },
     "execution_count": 51,
     "metadata": {},
     "output_type": "execute_result"
    }
   ],
   "source": []
  },
  {
   "cell_type": "code",
   "execution_count": null,
   "metadata": {
    "collapsed": true
   },
   "outputs": [],
   "source": []
  }
 ],
 "metadata": {
  "kernelspec": {
   "display_name": "Python 2",
   "language": "python",
   "name": "python2"
  },
  "language_info": {
   "codemirror_mode": {
    "name": "ipython",
    "version": 2
   },
   "file_extension": ".py",
   "mimetype": "text/x-python",
   "name": "python",
   "nbconvert_exporter": "python",
   "pygments_lexer": "ipython2",
   "version": "2.7.13"
  }
 },
 "nbformat": 4,
 "nbformat_minor": 2
}

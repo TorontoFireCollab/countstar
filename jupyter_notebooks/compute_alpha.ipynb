{
 "cells": [
  {
   "cell_type": "code",
   "execution_count": 3,
   "metadata": {
    "collapsed": true
   },
   "outputs": [],
   "source": [
    "import sqlite3 as sql\n",
    "import math\n",
    "import catalog_utils as cu"
   ]
  },
  {
   "cell_type": "code",
   "execution_count": 10,
   "metadata": {
    "collapsed": true
   },
   "outputs": [],
   "source": [
    "def compute_alpha(constr, source):\n",
    "    con = sql.connect(constr)\n",
    "    cur = con.cursor()\n",
    "    target = source+'_alpha'\n",
    "    cur.execute('''CREATE TABLE '''+ target +''' AS \n",
    "                   SELECT desig, Type, mKs, m3_6, m4_5, m5_8, m8_0, m24,\n",
    "                   1 - 0.4 * (m3_6 - mKs)/0.222 AS alpha1,\n",
    "                   1 - 0.4 * (m4_5 - m3_6)/0.0969 AS alpha2,\n",
    "                   1 - 0.4 * (m5_8 - m4_5)/0.110 AS alpha3,\n",
    "                   1 - 0.4 * (m8_0 - m5_8)/0.140 AS alpha4,\n",
    "                   1 - 0.4 * (m24 - m8_0)/0.477 AS alpha5\n",
    "                   FROM '''+ source +''' WHERE Type = 1 OR Type = 2''')\n",
    "    return 0"
   ]
  },
  {
   "cell_type": "code",
   "execution_count": 11,
   "metadata": {
    "collapsed": false
   },
   "outputs": [
    {
     "data": {
      "text/plain": [
       "0"
      ]
     },
     "execution_count": 11,
     "metadata": {},
     "output_type": "execute_result"
    }
   ],
   "source": [
    "compute_alpha('/home/kecai/w49/w49test.db', 'gtw49')"
   ]
  },
  {
   "cell_type": "code",
   "execution_count": null,
   "metadata": {
    "collapsed": true
   },
   "outputs": [],
   "source": []
  }
 ],
 "metadata": {
  "kernelspec": {
   "display_name": "Python 2",
   "language": "python",
   "name": "python2"
  },
  "language_info": {
   "codemirror_mode": {
    "name": "ipython",
    "version": 2
   },
   "file_extension": ".py",
   "mimetype": "text/x-python",
   "name": "python",
   "nbconvert_exporter": "python",
   "pygments_lexer": "ipython2",
   "version": "2.7.13"
  }
 },
 "nbformat": 4,
 "nbformat_minor": 2
}

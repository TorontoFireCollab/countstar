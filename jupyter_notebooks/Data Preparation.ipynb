{
 "cells": [
  {
   "cell_type": "code",
   "execution_count": 1,
   "metadata": {
    "collapsed": true,
    "deletable": true,
    "editable": true
   },
   "outputs": [],
   "source": [
    "import pandas as pd\n",
    "import pandas.io.sql as pd_sql\n",
    "import sqlite3 as sql\n",
    "import numpy as np\n",
    "from pandas import Series, DataFrame\n",
    "import math"
   ]
  },
  {
   "cell_type": "code",
   "execution_count": 8,
   "metadata": {
    "collapsed": false,
    "deletable": true,
    "editable": true
   },
   "outputs": [],
   "source": [
    "gutermuth = pd.read_csv('/home/kecai/w49/gutermuth.tbl', sep = ',', header = None, skiprows = 1, \\\n",
    "                        names = ['desig', 'ra', 'dec',\n",
    "                                 'm3_6', 'm4_5', 'm5_8', 'm8_0', 'm24', 'mJ', 'mH', 'mKs',\n",
    "                                 'dm3_6', 'dm4_5', 'dm5_8', 'dm8_0', 'dm24', 'dmJ', 'dmH', 'dmKs', \n",
    "                                 'Type', 'Phase', 'f_Type', 'alpha', 'M', 'W'\n",
    "                                  ],\\\n",
    "                             na_values = 'null')\n",
    "con = sql.connect('/home/kecai/w49/w49test.db')\n",
    "gutermuth.to_sql(\"gtw49_original\", con, if_exists = 'replace', index = False)\n",
    "con.commit()"
   ]
  },
  {
   "cell_type": "code",
   "execution_count": 9,
   "metadata": {
    "collapsed": false,
    "deletable": true,
    "editable": true
   },
   "outputs": [
    {
     "data": {
      "text/plain": [
       "<sqlite3.Cursor at 0x7f8d75820b90>"
      ]
     },
     "execution_count": 9,
     "metadata": {},
     "output_type": "execute_result"
    }
   ],
   "source": [
    "con = sql.connect('/home/kecai/w49/w49test.db')\n",
    "cur = con.cursor()\n",
    "cur.execute('''CREATE TABLE gtw49 AS \n",
    "               SELECT desig, ra, dec, m3_6, m4_5, m5_8, m8_0, m24, mJ, mH, mKs,\n",
    "               dm3_6, dm4_5, dm5_8, dm8_0, dm24, dmJ, dmH, dmKs, \n",
    "               m3_6 - m4_5 AS c3645, \n",
    "               m3_6 - m5_8 AS c3658,\n",
    "               m3_6 - m8_0 AS c3680, \n",
    "               m4_5 - m5_8 AS c4558,\n",
    "               m4_5 - m8_0 AS c4580,\n",
    "               m5_8 - m8_0 AS c5880,\n",
    "               mH - mKs AS cHK,\n",
    "               mJ - mH AS cJH,\n",
    "               mKs - m3_6 AS cK36,\n",
    "               m3_6 - m24 AS c3624,\n",
    "               m4_5 - m24 AS c4524,\n",
    "               m5_8 - m24 AS c5824,\n",
    "               m8_0 - m24 AS c8024,\n",
    "               Type AS oType,\n",
    "               Phase AS oPhase,\n",
    "               f_Type AS of_Type,\n",
    "               NULL AS Type, \n",
    "               NULL AS Phase, \n",
    "               NULL AS f_Type FROM gtw49_original''' )\n",
    "cur.execute('''CREATE INDEX gtw49_desig ON gtw49 (desig)''')"
   ]
  },
  {
   "cell_type": "code",
   "execution_count": 14,
   "metadata": {
    "collapsed": true,
    "deletable": true,
    "editable": true
   },
   "outputs": [],
   "source": [
    "mipsgal  = pd.read_csv('/home/kecai/w49/mipsgal.tbl', sep = '\\s+', header = None, skiprows = 60, \\\n",
    "                       names = ['mdesig', 'ra', 'dec', 'm24', 'dm24', 'tdesig', 'gdesig', \n",
    "                                'mJ', 'dmJ', 'mH', 'dmH', 'mKs', 'dmKs',\n",
    "                                'm3_6', 'dm3_6', 'm4_5', 'dm4_5', 'm5_8', 'dm5_8', 'm8_0', 'dm8_0'], \\\n",
    "                       na_values = 'null')\n",
    "con = sql.connect('/home/kecai/w49/w49.db')\n",
    "mipsgal.to_sql(\"mipsgal_original\", con, if_exists = 'replace', index = False)\n",
    "con.commit()"
   ]
  },
  {
   "cell_type": "code",
   "execution_count": 19,
   "metadata": {
    "collapsed": true,
    "deletable": true,
    "editable": true
   },
   "outputs": [],
   "source": [
    "con = sql.connect('/home/kecai/w49/w49.db')\n",
    "glimpse = pd.read_csv('/home/kecai/w49/glimpse.tbl', sep = '\\s+', header = None, skiprows = 90, \\\n",
    "                      names = ['desig', 'ra', 'dec', 'dra', 'ddec', \n",
    "                                'mJ', 'dmJ', 'mH', 'dmH', 'mKs', 'dmKs', \n",
    "                                'm3_6', 'dm3_6', 'm4_5', 'dm4_5', 'm5_8', 'dm5_8', 'm8_0', 'dm8_0',\n",
    "                                'fJ', 'dfJ', 'fH', 'dfH', 'fKs', 'dfKs', \n",
    "                                'f3_6', 'df3_6', 'f4_5', 'df4_5', 'f5_8', 'df5_8', 'f8_0', 'df8_0', \n",
    "                                'c36_45', 'c36_58', 'c36_80', 'c45_58', 'c45_80', 'c58_80'], \\\n",
    "                      na_values = 'null')\n",
    "glimpse.to_sql(\"glimpse_original\", con, if_exists = 'replace', index = False)\n",
    "con.commit()"
   ]
  },
  {
   "cell_type": "code",
   "execution_count": 22,
   "metadata": {
    "collapsed": false,
    "deletable": true,
    "editable": true
   },
   "outputs": [
    {
     "name": "stderr",
     "output_type": "stream",
     "text": [
      "ERROR:root:An unexpected error occurred while tokenizing input\n",
      "The following traceback may be corrupted or invalid\n",
      "The error message is: ('EOF in multi-line string', (1, 116))\n",
      "\n"
     ]
    },
    {
     "ename": "OperationalError",
     "evalue": "table glimpse already exists",
     "output_type": "error",
     "traceback": [
      "\u001b[0;31m---------------------------------------------------------------------------\u001b[0m",
      "\u001b[0;31mOperationalError\u001b[0m                          Traceback (most recent call last)",
      "\u001b[0;32m<ipython-input-22-a0a4a0698914>\u001b[0m in \u001b[0;36m<module>\u001b[0;34m()\u001b[0m\n\u001b[1;32m      2\u001b[0m \u001b[0mcur\u001b[0m \u001b[0;34m=\u001b[0m \u001b[0mcon\u001b[0m\u001b[0;34m.\u001b[0m\u001b[0mcursor\u001b[0m\u001b[0;34m(\u001b[0m\u001b[0;34m)\u001b[0m\u001b[0;34m\u001b[0m\u001b[0m\n\u001b[1;32m      3\u001b[0m cur.execute('''CREATE TABLE glimpse AS SELECT desig, ra, dec, \n\u001b[0;32m----> 4\u001b[0;31m                mJ, dmJ, mH, dmH, mKs, dmKs, m3_6, dm3_6, m4_5, dm4_5, m5_8, dm5_8, m8_0, dm8_0 FROM glimpse_original''')\n\u001b[0m",
      "\u001b[0;31mOperationalError\u001b[0m: table glimpse already exists"
     ]
    }
   ],
   "source": [
    "con = sql.connect('/home/kecai/w49/w49.db')\n",
    "cur = con.cursor()\n",
    "cur.execute('''CREATE TABLE glimpse AS SELECT desig, ra, dec, \n",
    "               mJ, dmJ, mH, dmH, mKs, dmKs, m3_6, dm3_6, m4_5, dm4_5, m5_8, dm5_8, m8_0, dm8_0 FROM glimpse_original''')"
   ]
  },
  {
   "cell_type": "code",
   "execution_count": null,
   "metadata": {
    "collapsed": true,
    "deletable": true,
    "editable": true
   },
   "outputs": [],
   "source": []
  }
 ],
 "metadata": {
  "kernelspec": {
   "display_name": "Python 2",
   "language": "python",
   "name": "python2"
  },
  "language_info": {
   "codemirror_mode": {
    "name": "ipython",
    "version": 2
   },
   "file_extension": ".py",
   "mimetype": "text/x-python",
   "name": "python",
   "nbconvert_exporter": "python",
   "pygments_lexer": "ipython2",
   "version": "2.7.13"
  }
 },
 "nbformat": 4,
 "nbformat_minor": 2
}

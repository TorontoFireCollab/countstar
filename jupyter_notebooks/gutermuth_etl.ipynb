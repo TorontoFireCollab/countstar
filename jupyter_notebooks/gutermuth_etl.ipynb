{
 "cells": [
  {
   "cell_type": "code",
   "execution_count": null,
   "metadata": {
    "collapsed": true
   },
   "outputs": [],
   "source": [
    "import catalog_util_astro as cua"
   ]
  },
  {
   "cell_type": "code",
   "execution_count": null,
   "metadata": {
    "collapsed": true
   },
   "outputs": [],
   "source": [
    "#read table from file\n",
    "g = Table.read('/home/kecai/w49/gutermuth.tbl', format='ascii')"
   ]
  },
  {
   "cell_type": "code",
   "execution_count": null,
   "metadata": {
    "collapsed": true
   },
   "outputs": [],
   "source": [
    "g.rename_column('SSTOERC', 'desig')\n",
    "g.rename_column('RAJ2000', 'ra')\n",
    "g.rename_column('DEJ2000', 'dec')\n",
    "g.rename_column('[3_6]', 'm3_6')\n",
    "g.rename_column('[4_5]', 'm4_5')\n",
    "g.rename_column('[5_8]', 'm5_8')\n",
    "g.rename_column('[8_0]', 'm8_0')\n",
    "g.rename_column('[24]', 'm24')\n",
    "g.rename_column('Jmag', 'mJ')\n",
    "g.rename_column('Hmag', 'mH')\n",
    "g.rename_column('Ksmag', 'mK')\n",
    "g.rename_column('e_[3_6]', 'd3_6')\n",
    "g.rename_column('e_[4_5]', 'd4_5')\n",
    "g.rename_column('e_[5_8]', 'd5_8')\n",
    "g.rename_column('e_[8_0]', 'd8_0')\n",
    "g.rename_column('e_Jmag', 'dJ')\n",
    "g.rename_column('e_Hmag', 'dH')\n",
    "g.rename_column('e_Ksmag', 'dK')\n",
    "g.rename_column('Type', 'oType')\n",
    "g.rename_column('Phase', 'oPhase')\n",
    "g.rename_column('f_Type', 'of_Type')"
   ]
  },
  {
   "cell_type": "code",
   "execution_count": null,
   "metadata": {
    "collapsed": true
   },
   "outputs": [],
   "source": [
    "print('ra_max:') \n",
    "print max(g['ra'])\n",
    "print('ra_min:')\n",
    "print min(g['ra'])\n",
    "print('dec_max')\n",
    "print max(g['dec'])\n",
    "print('dec_min')\n",
    "print min(g['dec'])"
   ]
  }
 ],
 "metadata": {
  "kernelspec": {
   "display_name": "Python 2",
   "language": "python",
   "name": "python2"
  },
  "language_info": {
   "codemirror_mode": {
    "name": "ipython",
    "version": 2
   },
   "file_extension": ".py",
   "mimetype": "text/x-python",
   "name": "python",
   "nbconvert_exporter": "python",
   "pygments_lexer": "ipython2",
   "version": "2.7.13"
  }
 },
 "nbformat": 4,
 "nbformat_minor": 2
}

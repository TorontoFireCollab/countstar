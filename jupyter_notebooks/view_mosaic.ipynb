{
 "cells": [
  {
   "cell_type": "code",
   "execution_count": 4,
   "metadata": {
    "collapsed": false
   },
   "outputs": [],
   "source": [
    "from astropy.io import fits\n",
    "\n",
    "import numpy as np\n",
    "\n",
    "# Set up matplotlib and use a nicer set of plot parameters\n",
    "%config InlineBackend.rc = {}\n",
    "import matplotlib\n",
    "#matplotlib.rc_file(\"../../templates/matplotlibrc\")\n",
    "import matplotlib.pyplot as plt\n",
    "%matplotlib inline"
   ]
  },
  {
   "cell_type": "code",
   "execution_count": 12,
   "metadata": {
    "collapsed": true
   },
   "outputs": [],
   "source": [
    "hdulist = fits.open('/home/kecai/Downloads/r7283968out_overlap/Combine-mosaic/mosaic.fits')\n",
    "image_data = hdulist[0].data"
   ]
  },
  {
   "cell_type": "code",
   "execution_count": 10,
   "metadata": {
    "collapsed": false
   },
   "outputs": [
    {
     "data": {
      "text/plain": [
       "<matplotlib.colorbar.Colorbar at 0x7f562edf2190>"
      ]
     },
     "execution_count": 10,
     "metadata": {},
     "output_type": "execute_result"
    },
    {
     "data": {
      "image/png": "[encoded data removed]",
      "text/plain": [
       "<matplotlib.figure.Figure at 0x7f562ee54dd0>"
      ]
     },
     "metadata": {},
     "output_type": "display_data"
    }
   ],
   "source": [
    "plt.imshow(image_data, cmap='gray')\n",
    "plt.colorbar()"
   ]
  },
  {
   "cell_type": "code",
   "execution_count": 11,
   "metadata": {
    "collapsed": false
   },
   "outputs": [],
   "source": [
    "#from matplotlib.colors import LogNorm\n",
    "#plt.imshow(image_data, cmap='gray', norm=LogNorm())"
   ]
  },
  {
   "cell_type": "code",
   "execution_count": 21,
   "metadata": {
    "collapsed": false
   },
   "outputs": [],
   "source": [
    "image_header = hdulist[0].header"
   ]
  },
  {
   "cell_type": "code",
   "execution_count": 23,
   "metadata": {
    "collapsed": false
   },
   "outputs": [
    {
     "data": {
      "text/plain": [
       "SIMPLE  =                    T / Fits standard                                  \n",
       "BITPIX  =                  -32 / Bits per pixel- floating point                 \n",
       "NAXIS   =                    2 / STANDARD FITS FORMAT                           \n",
       "NAXIS1  =                 1002 / Axis Length                                    \n",
       "NAXIS2  =                 4826 / Axis Length                                    \n",
       "TOTALBCD=                  164 / Total number of BCD's used in this mosaic      \n",
       "TELESCOP= 'Spitzer '           /  SPITZER Space Telescope                       \n",
       "INSTRUME= 'IRAC    '           /  SPITZER Space Telescope instrument ID         \n",
       "CHNLNUM =                    1 / 1 digit instrument channel number              \n",
       "EXPTYPE = 'sci     '           /  Exposure Type                                 \n",
       "FOVID   =                   81 / Field of View ID                               \n",
       "FOVNAME = 'IRAC_FOV_bwn_3.6&5.8_and_4.5&8.0_for_mapping' /  Field of View Name  \n",
       "PRODTYPE= 'IMAGE   '           /  type of this data                             \n",
       "OBSRVR  = 'Giovanni Fazio'     /  Observer Name (Last, First)                   \n",
       "OBSRVRID=                    2 / Observer ID of Principal Investigator          \n",
       "PROCYCL =                    3 / Proposal Cycle                                 \n",
       "PROGID  =                  631 / Program ID                                     \n",
       "DATE_OBS= '2003-10-02T11:31:13.986' /  Date & time (UTC) at DCE start           \n",
       "CRVAL1  =           286.577952 / [deg] RA at CRPIX1,CRPIX2                      \n",
       "CRVAL2  =             8.236746 / [deg] DEC at CRPIX1,CRPIX2                     \n",
       "RADESYS = 'ICRS    '           /  International Celestial Reference System      \n",
       "EQUINOX =                2000. / Equinox for ICRS celestial coord. system       \n",
       "CTYPE1  = 'RA---TAN'           /  RA projection type                            \n",
       "CTYPE2  = 'DEC--TAN'           /  DEC projection type                           \n",
       "CRPIX1  =                501.5 / Reference pixel along axis 1                   \n",
       "CRPIX2  =               2413.5 / Reference pixel along axis 2                   \n",
       "CD1_1   = -1.30636172766336E-05 / CD matrix element with Pointing Recon         \n",
       "CD1_2   = 0.000339549816043036 / CD matrix element with Pointing Recon          \n",
       "CD2_1   = 0.000339565804215692 / CD matrix element with Pointing Recon          \n",
       "CD2_2   = 1.30630021871107E-05 / CD matrix element with Pointing Recon          \n",
       "BUNIT   = 'MJy/sr  '           /  Units of image data                           \n",
       "AORKEY  =              7283968 / AOR or EIR key. Astrnmy Obs Req/Instr Eng Req  \n",
       "DPID    =            348053940 / Data Product Instance ID                       \n",
       "INT_MTHD=                    1 / Interp Scheme:1 default,2 drizzl,3 numeric,4 bi\n",
       "REFINED =                    0 / redefine_pointing applied. 1 is yes            \n",
       "COMMENT Photons in Well = Flux[photons/sec/pixel] * FRAMTIME                    \n",
       "COMMENT DN per pixel = Flux[photons/sec/pixel] / GAIN * EXPTIME                 \n",
       "COMMENT MUXSTRPCORR Module Version 1.3 corrected image created                  \n",
       "COMMENT Thu Jan 13 22:27:44 2011                                                \n",
       "COMMENT Overlap Consistency Correction  Version 2.3 Module image created        \n",
       "COMMENT Thu Mar 16 15:39:59 2017                                                \n",
       "COMMENT MOSAIC_INT Module Version 6.2 image created                             \n",
       "COMMENT Thu Mar 16 15:41:05 2017                                                \n",
       "COMMENT MOSAIC_REINT Module Version 3.3 image created                           \n",
       "COMMENT Thu Mar 16 16:43:09 2017                                                \n",
       "COMMENT MOSAIC_COADD Module Version 5.0 image created                           \n",
       "COMMENT Thu Mar 16 17:15:56 2017                                                \n",
       "PXSCAL1 =           -1.2233412 / [arcsec/pix] Scale for axis 1 at CRPIX1, CRPIX2\n",
       "PXSCAL2 =            1.2232836 / [arcsec/pix] Scale for axis 2 at CRPIX1, CRPIX2\n",
       "PA      =             87.79683 / [deg] Position angle of axis 2 (E of N)        \n",
       "COMMENT MOSAIC_COMBINE Module Version 2.5 image created                         \n",
       "COMMENT Thu Mar 16 17:19:35 2017                                                \n",
       "COMMENT CROTA2 = -87.796830 /[deg] Orientation of axis 2 (W of N, +=CW)         \n",
       "COMMENT CDELT1 = -0.000340 /[deg/pix] Scale for axis 1                          \n",
       "COMMENT CDELT2 = 0.000340 /[deg/pix] Scale for axis 1                           "
      ]
     },
     "execution_count": 23,
     "metadata": {},
     "output_type": "execute_result"
    }
   ],
   "source": [
    "image_header"
   ]
  },
  {
   "cell_type": "code",
   "execution_count": null,
   "metadata": {
    "collapsed": true
   },
   "outputs": [],
   "source": []
  }
 ],
 "metadata": {
  "kernelspec": {
   "display_name": "Python 2",
   "language": "python",
   "name": "python2"
  },
  "language_info": {
   "codemirror_mode": {
    "name": "ipython",
    "version": 2
   },
   "file_extension": ".py",
   "mimetype": "text/x-python",
   "name": "python",
   "nbconvert_exporter": "python",
   "pygments_lexer": "ipython2",
   "version": "2.7.13"
  }
 },
 "nbformat": 4,
 "nbformat_minor": 2
}

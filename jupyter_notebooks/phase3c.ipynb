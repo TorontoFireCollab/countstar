{
 "cells": [
  {
   "cell_type": "code",
   "execution_count": 1,
   "metadata": {
    "collapsed": true,
    "deletable": true,
    "editable": true
   },
   "outputs": [],
   "source": [
    "import sqlite3 as sql\n",
    "import math\n",
    "import catalog_utils as cu"
   ]
  },
  {
   "cell_type": "code",
   "execution_count": 2,
   "metadata": {
    "collapsed": true,
    "deletable": true,
    "editable": true
   },
   "outputs": [],
   "source": [
    "def init(con, source):\n",
    "    cur = con.cursor()\n",
    "    target = source + '_p3'\n",
    "    cur.execute('''CREATE TABLE '''+ target +''' AS SELECT \n",
    "                   desig, \n",
    "                   m3_6, m4_5, m5_8, m8_0, m24, \n",
    "                   c3624, c4524, c5824, c8024, c3658,\n",
    "                   Type \n",
    "                   FROM '''+ source +''' WHERE\n",
    "                   (m24 IS NOT NULL) AND\n",
    "                   dm24 < 0.1 AND\n",
    "                   (dm3_6 < 0.2 OR m3_6 IS NULL) AND\n",
    "                   (dm4_5 < 0.2 OR m4_5 IS NULL) AND\n",
    "                   (dm5_8 < 0.2 OR m5_8 IS NULL) AND\n",
    "                   (dm8_0 < 0.2 OR m8_0 IS NULL)''')\n",
    "    return target"
   ]
  },
  {
   "cell_type": "code",
   "execution_count": 3,
   "metadata": {
    "collapsed": true,
    "deletable": true,
    "editable": true
   },
   "outputs": [],
   "source": [
    "def extract_3(con, source, cutoff36):\n",
    "    #flag what were considered photospheric to transition disks\n",
    "    cur = con.cursor()\n",
    "    target = source + '_3'\n",
    "    cur.execute('''CREATE TABLE '''+ target +''' AS SELECT\n",
    "                   desig FROM '''+ source +''' WHERE \n",
    "                   (Type = 1 OR 2)AND \n",
    "                   (c5824 > 2.5 OR c4524 > 2.5)\n",
    "                   AND m3_6 < ?\n",
    "                   ''', [cutoff36])\n",
    "    return target"
   ]
  },
  {
   "cell_type": "code",
   "execution_count": 4,
   "metadata": {
    "collapsed": true,
    "deletable": true,
    "editable": true
   },
   "outputs": [],
   "source": [
    "#Class I* \n",
    "def extract_18(con, source, cutoff24):\n",
    "    cur = con.cursor()\n",
    "    target = source + '_18'\n",
    "    cur.execute('''CREATE TABLE '''+ target + ''' AS \n",
    "                     SELECT desig FROM (SELECT desig, \n",
    "                      CASE\n",
    "                      WHEN m8_0 IS NOT NULL THEN c8024\n",
    "                      WHEN (m8_0 IS NULL) AND (m5_8 IS NOT NULL) THEN c5824\n",
    "                      WHEN (m8_0 IS NULL) AND (m5_8 IS NULL) AND (m4_5 IS NOT NULL) THEN c4524\n",
    "                      WHEN (m8_0 IS NULL) AND (m5_8 IS NULL) AND (m4_5 IS NULL) AND (m3_6 IS NOT NULL) THEN c3624\n",
    "                      END AS cX_24\n",
    "                     FROM ''' + source + ''' WHERE m24 < ?)\n",
    "                    WHERE cX_24 > 4.5''', [cutoff24])\n",
    "    return target"
   ]
  },
  {
   "cell_type": "code",
   "execution_count": 5,
   "metadata": {
    "collapsed": true,
    "deletable": true,
    "editable": true
   },
   "outputs": [],
   "source": [
    "#reflag AGN and shock emissions as class I\n",
    "def reflag_299_to_1(con, source, cutoff24):\n",
    "    cur = con.cursor()\n",
    "    target = source + '_1_from_29_9'\n",
    "    cur.execute('''CREATE TABLE '''+ target +''' AS SELECT desig FROM '''+ source +''' WHERE \n",
    "                   (Type = 29 OR Type = 9) AND \n",
    "                   m24 > ? AND\n",
    "                   c3658 > 0.5 AND\n",
    "                   c4524 > 4.5 AND\n",
    "                   c8024 > 4''', [cutoff24])\n",
    "    return target"
   ]
  },
  {
   "cell_type": "code",
   "execution_count": 6,
   "metadata": {
    "collapsed": true,
    "deletable": true,
    "editable": true
   },
   "outputs": [],
   "source": [
    "#reflag previously flagged c1 to c2\n",
    "def reflag_1_to_2(con, source):\n",
    "    cur = con.cursor()\n",
    "    target = source+'_2_from_1'\n",
    "    cur.execute('''CREATE TABLE '''+ target +''' AS SELECT desig FROM '''+source+''' WHERE \n",
    "                   Type = 1 AND \n",
    "                   (m5_8 IS NOT NULL AND c5824 <=4) OR\n",
    "                   (m5_8 IS NULL AND c4524 <=4)''')\n",
    "    return target"
   ]
  },
  {
   "cell_type": "code",
   "execution_count": 7,
   "metadata": {
    "collapsed": false,
    "deletable": true,
    "editable": true
   },
   "outputs": [],
   "source": [
    "def run_phase3(master, constr, cutoff36, cutoff24):\n",
    "    con = sql.connect(constr)\n",
    "    cur = con.cursor()\n",
    "    \n",
    "    wc = init(con, master)\n",
    "    cu.update_phase(con, master, wc, 0)\n",
    "    \n",
    "    c3 = extract_3(con, wc, cutoff36)\n",
    "    cu.update_type(con, master, c3, 3)\n",
    "    cu.update_type(con, wc, c3, 3)\n",
    "    \n",
    "    #extract ClassI*\n",
    "    c18 = extract_18(con, wc, cutoff24)\n",
    "    cu.update_type(con, master, c18, 0)\n",
    "    cu.update_type(con, wc, c18, 0)\n",
    "    \n",
    "    #reflag AGN and shock emissions as classI\n",
    "    c1f299 = reflag_299_to_1(con, wc, cutoff24)\n",
    "    cu.update_type(con, master, c1f299, 1)\n",
    "    cu.update_type(con, wc, c1f299, 1)\n",
    "    \n",
    "    #reflag previous class I to classII\n",
    "    c2f1 = reflag_1_to_2(con, wc)\n",
    "    cu.update_type(con, master, c2f1, 2)\n",
    "    cu.update_type(con, wc, c2f1, 2)\n",
    "    \n",
    "    return 0"
   ]
  },
  {
   "cell_type": "code",
   "execution_count": 8,
   "metadata": {
    "collapsed": false,
    "deletable": true,
    "editable": true
   },
   "outputs": [
    {
     "data": {
      "text/plain": [
       "0"
      ]
     },
     "execution_count": 8,
     "metadata": {},
     "output_type": "execute_result"
    }
   ],
   "source": [
    "run_phase3('gtw49', '/home/kecai/w49/w49test.db', 15.2, 9.7)"
   ]
  },
  {
   "cell_type": "code",
   "execution_count": null,
   "metadata": {
    "collapsed": true,
    "deletable": true,
    "editable": true
   },
   "outputs": [],
   "source": []
  }
 ],
 "metadata": {
  "kernelspec": {
   "display_name": "Python 2",
   "language": "python",
   "name": "python2"
  },
  "language_info": {
   "codemirror_mode": {
    "name": "ipython",
    "version": 2
   },
   "file_extension": ".py",
   "mimetype": "text/x-python",
   "name": "python",
   "nbconvert_exporter": "python",
   "pygments_lexer": "ipython2",
   "version": "2.7.13"
  }
 },
 "nbformat": 4,
 "nbformat_minor": 2
}

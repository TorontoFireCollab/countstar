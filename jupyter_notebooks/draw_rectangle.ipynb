{
 "cells": [
  {
   "cell_type": "code",
   "execution_count": 4,
   "metadata": {
    "collapsed": false
   },
   "outputs": [],
   "source": [
    "import matplotlib.pyplot as plt\n",
    "import matplotlib.patches as patches"
   ]
  },
  {
   "cell_type": "code",
   "execution_count": 6,
   "metadata": {
    "collapsed": false
   },
   "outputs": [],
   "source": [
    "#basic rectangle\n",
    "\n",
    "fig1 = plt.figure()\n",
    "ax1 = fig1.add_subplot(111, aspect='equal')\n",
    "ax1.add_patch(\n",
    "    patches.Rectangle(\n",
    "        (0.1, 0.1),   # (x,y)\n",
    "        0.5,          # width\n",
    "        0.5,          # height\n",
    "    )\n",
    "\n",
    ")\n",
    "fig1.savefig('rect1.png', dpi=90, bbox_inches='tight')"
   ]
  },
  {
   "cell_type": "code",
   "execution_count": null,
   "metadata": {
    "collapsed": true
   },
   "outputs": [],
   "source": [
    "#remove background\n",
    "fig2 = plt.figure()\n",
    "ax2 = fig2.add_subplot(111, aspect='equal')\n",
    "ax2.add_patch(\n",
    "    patches.Rectangle(\n",
    "        (0.1, 0.1),\n",
    "        0.5,\n",
    "        0.5,\n",
    "        fill=False      # remove background\n",
    "    )\n",
    ")\n",
    "fig2.savefig('rect2.png', dpi=90, bbox_inches='tight')"
   ]
  },
  {
   "cell_type": "code",
   "execution_count": null,
   "metadata": {
    "collapsed": true
   },
   "outputs": [],
   "source": [
    "#background patterns\n",
    "fig3 = plt.figure()\n",
    "ax3 = fig3.add_subplot(111, aspect='equal')\n",
    "for p in [\n",
    "    patches.Rectangle(\n",
    "        (0.1, 0.1), 0.3, 0.6,\n",
    "        hatch='/'\n",
    "    ),\n",
    "    patches.Rectangle(\n",
    "        (0.5, 0.1), 0.3, 0.6,\n",
    "        hatch='\\\\',\n",
    "        fill=False\n",
    "    ),\n",
    "]:\n",
    "    ax3.add_patch(p)\n",
    "fig3.savefig('rect3.png', dpi=90, bbox_inches='tight')"
   ]
  },
  {
   "cell_type": "code",
   "execution_count": null,
   "metadata": {
    "collapsed": true
   },
   "outputs": [],
   "source": [
    "#more background patterns\n",
    "patterns = ['-', '+', 'x', 'o', 'O', '.', '*']  # more patterns\n",
    "fig4 = plt.figure()\n",
    "ax4 = fig4.add_subplot(111, aspect='equal')\n",
    "for p in [\n",
    "    patches.Rectangle(\n",
    "        (0.05 + (i * 0.13), 0.1),\n",
    "        0.1,\n",
    "        0.6,\n",
    "        hatch=patterns[i],\n",
    "        fill=False\n",
    "    ) for i in range(len(patterns))\n",
    "]:\n",
    "    ax4.add_patch(p)\n",
    "fig4.savefig('rect4.png', dpi=90, bbox_inches='tight')"
   ]
  },
  {
   "cell_type": "code",
   "execution_count": null,
   "metadata": {
    "collapsed": true
   },
   "outputs": [],
   "source": [
    "#background alpha(gradient)\n",
    "fig5 = plt.figure()\n",
    "ax5 = fig5.add_subplot(111, aspect='equal')\n",
    "for p in [\n",
    "    patches.Rectangle(\n",
    "        (0.03, 0.1), 0.2, 0.6,\n",
    "        alpha=None,\n",
    "    ),\n",
    "    patches.Rectangle(\n",
    "        (0.26, 0.1), 0.2, 0.6,\n",
    "        alpha=1.0\n",
    "    ),\n",
    "    patches.Rectangle(\n",
    "        (0.49, 0.1), 0.2, 0.6,\n",
    "        alpha=0.6\n",
    "    ),\n",
    "    patches.Rectangle(\n",
    "        (0.72, 0.1), 0.2, 0.6,\n",
    "        alpha=0.1\n",
    "    ),\n",
    "]:\n",
    "    ax5.add_patch(p)\n",
    "fig5.savefig('rect5.png', dpi=90, bbox_inches='tight')"
   ]
  },
  {
   "cell_type": "code",
   "execution_count": null,
   "metadata": {
    "collapsed": true
   },
   "outputs": [],
   "source": [
    "#background color\n",
    "fig6 = plt.figure()\n",
    "ax6 = fig6.add_subplot(111, aspect='equal')\n",
    "for p in [\n",
    "    patches.Rectangle(\n",
    "        (0.03, 0.1), 0.2, 0.6,\n",
    "        facecolor=None      # Default\n",
    "    ),\n",
    "    patches.Rectangle(\n",
    "        (0.26, 0.1), 0.2, 0.6,\n",
    "        facecolor=\"none\"     # No background\n",
    "    ),\n",
    "    patches.Rectangle(\n",
    "        (0.49, 0.1), 0.2, 0.6,\n",
    "        facecolor=\"red\"\n",
    "    ),\n",
    "    patches.Rectangle(\n",
    "        (0.72, 0.1), 0.2, 0.6,\n",
    "        facecolor=\"#00ffff\"\n",
    "    ),\n",
    "]:\n",
    "    ax6.add_patch(p)\n",
    "fig6.savefig('rect6.png', dpi=90, bbox_inches='tight')"
   ]
  },
  {
   "cell_type": "code",
   "execution_count": null,
   "metadata": {
    "collapsed": true
   },
   "outputs": [],
   "source": [
    "#border color\n",
    "fig7 = plt.figure()\n",
    "ax7 = fig7.add_subplot(111, aspect='equal')\n",
    "for p in [\n",
    "    patches.Rectangle(\n",
    "        (0.03, 0.1), 0.2, 0.6, fill=False,\n",
    "        edgecolor=None      # Default\n",
    "    ),\n",
    "    patches.Rectangle(\n",
    "        (0.26, 0.1), 0.2, 0.6, fill=False,\n",
    "        edgecolor=\"none\"     # No border\n",
    "    ),\n",
    "    patches.Rectangle(\n",
    "        (0.49, 0.1), 0.2, 0.6, fill=False,\n",
    "        edgecolor=\"red\"\n",
    "    ),\n",
    "    patches.Rectangle(\n",
    "        (0.72, 0.1), 0.2, 0.6, fill=False,\n",
    "        edgecolor=\"#0000ff\"\n",
    "    ),\n",
    "]:\n",
    "    ax7.add_patch(p)\n",
    "fig7.savefig('rect7.png', dpi=90, bbox_inches='tight')"
   ]
  },
  {
   "cell_type": "code",
   "execution_count": null,
   "metadata": {
    "collapsed": true
   },
   "outputs": [],
   "source": [
    "#border width\n",
    "fig8 = plt.figure()\n",
    "ax8 = fig8.add_subplot(111, aspect='equal')\n",
    "for p in [\n",
    "    patches.Rectangle(\n",
    "        (0.03, 0.1), 0.2, 0.6, fill=False,\n",
    "        linewidth=None      # Default\n",
    "    ),\n",
    "    patches.Rectangle(\n",
    "        (0.26, 0.1), 0.2, 0.6, fill=False,\n",
    "        linewidth=0\n",
    "    ),\n",
    "    patches.Rectangle(\n",
    "        (0.49, 0.1), 0.2, 0.6, fill=False,\n",
    "        linewidth=0.5\n",
    "    ),\n",
    "    patches.Rectangle(\n",
    "        (0.72, 0.1), 0.2, 0.6, fill=False,\n",
    "        linewidth=3\n",
    "    ),\n",
    "]:\n",
    "    ax8.add_patch(p)\n",
    "fig8.savefig('rect8.png', dpi=90, bbox_inches='tight')"
   ]
  },
  {
   "cell_type": "code",
   "execution_count": null,
   "metadata": {
    "collapsed": true
   },
   "outputs": [],
   "source": [
    "#border style\n",
    "fig9 = plt.figure()\n",
    "ax9 = fig9.add_subplot(111, aspect='equal')\n",
    "for p in [\n",
    "    patches.Rectangle(\n",
    "        (0.03, 0.1), 0.2, 0.6, fill=False,\n",
    "        linestyle='solid'   # Default\n",
    "    ),\n",
    "    patches.Rectangle(\n",
    "        (0.26, 0.1), 0.2, 0.6, fill=False,\n",
    "        linestyle='dashed'\n",
    "    ),\n",
    "    patches.Rectangle(\n",
    "        (0.49, 0.1), 0.2, 0.6, fill=False,\n",
    "        linestyle='dashdot'\n",
    "    ),\n",
    "    patches.Rectangle(\n",
    "        (0.72, 0.1), 0.2, 0.6, fill=False,\n",
    "        linestyle='dotted'\n",
    "    ),\n",
    "]:\n",
    "    ax9.add_patch(p)\n",
    "fig9.savefig('rect9.png', dpi=90, bbox_inches='tight')"
   ]
  },
  {
   "cell_type": "code",
   "execution_count": null,
   "metadata": {
    "collapsed": true
   },
   "outputs": [],
   "source": []
  }
 ],
 "metadata": {
  "kernelspec": {
   "display_name": "Python 2",
   "language": "python",
   "name": "python2"
  },
  "language_info": {
   "codemirror_mode": {
    "name": "ipython",
    "version": 2
   },
   "file_extension": ".py",
   "mimetype": "text/x-python",
   "name": "python",
   "nbconvert_exporter": "python",
   "pygments_lexer": "ipython2",
   "version": "2.7.13"
  }
 },
 "nbformat": 4,
 "nbformat_minor": 2
}

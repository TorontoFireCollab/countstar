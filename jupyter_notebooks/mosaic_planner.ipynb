{
 "cells": [
  {
   "cell_type": "code",
   "execution_count": 3,
   "metadata": {
    "collapsed": false,
    "deletable": true,
    "editable": true
   },
   "outputs": [],
   "source": [
    "import pandas as pd\n",
    "from pandas import DataFrame\n",
    "import math\n",
    "import matplotlib.pyplot as plt\n",
    "from matplotlib import path\n",
    "import numpy as np\n",
    "from copy import deepcopy\n",
    "from aorcover import aorcover\n",
    "\n",
    "#p = path.Path([(0,0), (0, 1), (1, 1), (1, 0)])  # square with legs length 1 and bottom left corner at the origin\n",
    "#p.contains_points([(.5, .5)])"
   ]
  },
  {
   "cell_type": "code",
   "execution_count": 54,
   "metadata": {
    "collapsed": true,
    "deletable": true,
    "editable": true
   },
   "outputs": [],
   "source": [
    "#accepts two sets of coordinates, each cooresponding to a polygon\n",
    "#two polygons intersect if either one contains any of the other's vertices\n",
    "def poly_intersect(coorarray1, coorarray2):\n",
    "    poly1 = path.Path(coorarray1)\n",
    "    poly2 = path.Path(coorarray2)\n",
    "    p1p2 = poly1.contains_points(coorarray2)\n",
    "    p2p1 = poly2.contains_points(coorarray1)\n",
    "    return any(np.concatenate((p1p2, p2p1)))"
   ]
  },
  {
   "cell_type": "code",
   "execution_count": 55,
   "metadata": {
    "collapsed": false,
    "deletable": true,
    "editable": true
   },
   "outputs": [],
   "source": [
    "#def mosaic_planner1(aordict):\n",
    "#    mosaic_plan={}\n",
    "#    for key1, value1 in aordict.iteritems():\n",
    "#        overlaplist =[]\n",
    "#        for key2, value2 in aordict.iteritems():\n",
    "#            if (key1 != key2) & poly_intersect(value1, value2):\n",
    "#                overlaplist.append(key2)\n",
    "#        mosaic_plan[key1] = overlaplist\n",
    "#    return mosaic_plan"
   ]
  },
  {
   "cell_type": "code",
   "execution_count": 56,
   "metadata": {
    "collapsed": false,
    "deletable": true,
    "editable": true
   },
   "outputs": [],
   "source": [
    "#takes a dictionary of (aor, cornercoordinates) pairs \n",
    "#for each of the aor in the dictionary, finds all aors that have overlap with it\n",
    "#put all of these aors in the same group\n",
    "#return a list of these groups\n",
    "def group_overlap_aor(adict):\n",
    "    overlaplist=[]\n",
    "    for key1, value1 in adict.iteritems():\n",
    "        group = [key1]\n",
    "        for key2, value2 in adict.iteritems():\n",
    "            if (key1 != key2) & poly_intersect(value1, value2):\n",
    "                group.append(key2)\n",
    "        overlaplist.append(sorted(group))\n",
    "    return sorted(overlaplist)         "
   ]
  },
  {
   "cell_type": "code",
   "execution_count": 57,
   "metadata": {
    "collapsed": false,
    "deletable": true,
    "editable": true
   },
   "outputs": [],
   "source": [
    "#group_overlap_aor will contiain groups that are subgroups or duplicates\n",
    "#this function removes groups that are subgroup of equal or larger groups to minimize mosaic workload\n",
    "def remove_duplicate(ovl):\n",
    "    ovl_copy = deepcopy(ovl)\n",
    "    for i in range(0, len(ovl)):\n",
    "        #for j in list(range(0,i))+list(range(i+1,len(ovl))):\n",
    "        for j in list(range(i+1,len(ovl))):\n",
    "            if set(ovl[i]) <= set(ovl[j]):\n",
    "                #print ovl[i]\n",
    "                #print 'is susbset of '\n",
    "                #print ovl[j]\n",
    "                #print '\\n'\n",
    "                try:\n",
    "                    ovl_copy.remove(ovl[i])\n",
    "                    print 'removed '+ ovl[i]+ '\\n'\n",
    "                except:\n",
    "                    pass\n",
    "            elif set(ovl[j]) <= set(ovl[i]):\n",
    "                try:\n",
    "                    ovl_copy.remove(ovl[j])\n",
    "                    print 'removed '+ ovl[j]+ '\\n'\n",
    "                except:\n",
    "                    pass\n",
    "    return ovl_copy"
   ]
  },
  {
   "cell_type": "code",
   "execution_count": 58,
   "metadata": {
    "collapsed": true,
    "deletable": true,
    "editable": true
   },
   "outputs": [],
   "source": [
    "#mosaic planner combines group_overlap_aor and remove_duplicate together\n",
    "def mosaic_planner(adict):\n",
    "    return remove_duplicate(group_overlap_aor(adict))"
   ]
  },
  {
   "cell_type": "code",
   "execution_count": 59,
   "metadata": {
    "collapsed": false,
    "deletable": true,
    "editable": true
   },
   "outputs": [],
   "source": [
    "def write_plan(plan, path='/home/kecai/w49/mosaic_plan.txt'):\n",
    "    target = open(path, 'w')\n",
    "    i = 1\n",
    "    for item in sorted(plan):\n",
    "        target.write('Task '+ str(i)+': '+ str(item))\n",
    "        target.write('\\n')\n",
    "        i = i+1\n",
    "    target.close()\n",
    "    return 0"
   ]
  },
  {
   "cell_type": "code",
   "execution_count": 60,
   "metadata": {
    "collapsed": false,
    "deletable": true,
    "editable": true
   },
   "outputs": [],
   "source": [
    "aordf = pd.read_csv('/home/kecai/w49/aorcor.csv', sep = ',', header = 0)\n",
    "aordict = {}\n",
    "for column in aordf:\n",
    "    aordict[aordf[column].name]=aordf[column].values.reshape(4,2)"
   ]
  },
  {
   "cell_type": "code",
   "execution_count": 61,
   "metadata": {
    "collapsed": false
   },
   "outputs": [],
   "source": [
    "hdr_hc = {}\n",
    "hdr_hc ['4389888'] = aordict ['4389888']"
   ]
  },
  {
   "cell_type": "code",
   "execution_count": 62,
   "metadata": {
    "collapsed": true
   },
   "outputs": [],
   "source": [
    "non_hdr_hc = {}\n",
    "non_hdr_hc['11018240'] = aordict['11018240']\n",
    "non_hdr_hc['11017984'] = aordict['11017984']"
   ]
  },
  {
   "cell_type": "code",
   "execution_count": 63,
   "metadata": {
    "collapsed": false
   },
   "outputs": [
    {
     "data": {
      "text/plain": [
       "[['11017984', '11018240'], ['11017984', '11018240']]"
      ]
     },
     "execution_count": 63,
     "metadata": {},
     "output_type": "execute_result"
    }
   ],
   "source": [
    "group_overlap_aor(non_hdr_hc)"
   ]
  },
  {
   "cell_type": "code",
   "execution_count": 64,
   "metadata": {
    "collapsed": true,
    "deletable": true,
    "editable": true
   },
   "outputs": [],
   "source": [
    "#split aordict into two groups: HDR mode and non-HDR mode\n",
    "hdr_mc={}\n",
    "non_hdr_lc={}\n",
    "for key, value in aordict.iteritems():\n",
    "    if key.startswith('45'):\n",
    "        hdr_mc[key] = value\n",
    "    elif key.startswith('119') | key.startswith('7'):\n",
    "        non_hdr_lc[key] = value"
   ]
  },
  {
   "cell_type": "code",
   "execution_count": 65,
   "metadata": {
    "collapsed": false
   },
   "outputs": [
    {
     "name": "stdout",
     "output_type": "stream",
     "text": [
      "hdr high coverage\n",
      "4389888\n",
      "\n",
      " non hdr high coverage\n",
      "11018240\n",
      "11017984\n",
      "\n",
      " hdr medium coverage\n",
      "45949952\n",
      "45928960\n",
      "45909248\n",
      "45923328\n",
      "45940224\n",
      "45934848\n",
      "45906176\n",
      "45914880\n",
      "45917184\n",
      "45945600\n",
      "\n",
      " non hdr low coverage\n",
      "7283968\n",
      "11963904\n",
      "11972096\n",
      "11968768\n",
      "11966976\n",
      "11971072\n",
      "11972864\n",
      "11973376\n"
     ]
    }
   ],
   "source": [
    "print 'hdr high coverage'\n",
    "for key, value in hdr_hc.iteritems():\n",
    "    print key\n",
    "print '\\n non hdr high coverage'\n",
    "for key, value in non_hdr_hc.iteritems():\n",
    "    print key\n",
    "print '\\n hdr medium coverage'\n",
    "for key, value in hdr_mc.iteritems():\n",
    "    print key\n",
    "print '\\n non hdr low coverage'\n",
    "for key, value in non_hdr_lc.iteritems():\n",
    "    print key"
   ]
  },
  {
   "cell_type": "code",
   "execution_count": 66,
   "metadata": {
    "collapsed": false,
    "deletable": true,
    "editable": true
   },
   "outputs": [],
   "source": [
    "non_hdr_lc_plan = mosaic_planner(non_hdr_lc)"
   ]
  },
  {
   "cell_type": "code",
   "execution_count": 67,
   "metadata": {
    "collapsed": false,
    "deletable": true,
    "editable": true
   },
   "outputs": [],
   "source": [
    "hdr_mc_plan = mosaic_planner(hdr_mc)"
   ]
  },
  {
   "cell_type": "code",
   "execution_count": 68,
   "metadata": {
    "collapsed": true
   },
   "outputs": [],
   "source": [
    "hdr_hc_plan = mosaic_planner(hdr_hc)"
   ]
  },
  {
   "cell_type": "code",
   "execution_count": 69,
   "metadata": {
    "collapsed": false
   },
   "outputs": [],
   "source": [
    "non_hdr_hc_plan = mosaic_planner(non_hdr_hc)"
   ]
  },
  {
   "cell_type": "code",
   "execution_count": 70,
   "metadata": {
    "collapsed": false
   },
   "outputs": [
    {
     "name": "stdout",
     "output_type": "stream",
     "text": [
      "[['11017984', '11018240']]\n"
     ]
    }
   ],
   "source": [
    "print non_hdr_hc_plan"
   ]
  },
  {
   "cell_type": "code",
   "execution_count": 71,
   "metadata": {
    "collapsed": false,
    "deletable": true,
    "editable": true
   },
   "outputs": [
    {
     "name": "stdout",
     "output_type": "stream",
     "text": [
      "['45906176', '45923328', '45940224']\n",
      "['45906176', '45934848', '45940224']\n",
      "['45906176', '45934848', '45945600']\n",
      "['45909248', '45914880', '45917184']\n",
      "['45909248', '45914880', '45949952']\n",
      "['45909248', '45917184', '45923328']\n",
      "['45914880', '45928960', '45949952']\n",
      "['45917184', '45923328', '45940224']\n"
     ]
    }
   ],
   "source": [
    "for item in hdr_mc_plan:\n",
    "    print item"
   ]
  },
  {
   "cell_type": "code",
   "execution_count": 72,
   "metadata": {
    "collapsed": false
   },
   "outputs": [
    {
     "name": "stdout",
     "output_type": "stream",
     "text": [
      "['11963904', '11966976', '11972096']\n",
      "['11963904', '11968768', '11973376']\n",
      "['11963904', '11972096', '11973376']\n",
      "['11966976', '11971072', '11972096', '7283968']\n",
      "['11968768', '11972864', '11973376']\n"
     ]
    }
   ],
   "source": [
    "for item in non_hdr_lc_plan:\n",
    "    print item"
   ]
  },
  {
   "cell_type": "code",
   "execution_count": 22,
   "metadata": {
    "collapsed": true
   },
   "outputs": [],
   "source": [
    "i=1\n",
    "for item in non_hdr_lc_plan:\n",
    "    aorcover(aordict, \\\n",
    "             colored = item, \\\n",
    "             path = '/home/kecai/w49/non_hdr_lc_plan'+str(i))\n",
    "    i=i+1"
   ]
  },
  {
   "cell_type": "code",
   "execution_count": 383,
   "metadata": {
    "collapsed": false,
    "deletable": true,
    "editable": true
   },
   "outputs": [],
   "source": [
    "i=1\n",
    "for item in hdr_mc_plan:\n",
    "    aorcover(aordict, \\\n",
    "             colored = item, \\\n",
    "             path = '/home/kecai/w49/hdr_mc_plan'+str(i))\n",
    "    i=i+1"
   ]
  },
  {
   "cell_type": "code",
   "execution_count": 23,
   "metadata": {
    "collapsed": false,
    "deletable": true,
    "editable": true
   },
   "outputs": [
    {
     "data": {
      "text/plain": [
       "0"
      ]
     },
     "execution_count": 23,
     "metadata": {},
     "output_type": "execute_result"
    }
   ],
   "source": [
    "write_plan(non_hdr_lc_plan, path='/home/kecai/w49/non_hdr_lc_plan.txt' )"
   ]
  },
  {
   "cell_type": "code",
   "execution_count": 24,
   "metadata": {
    "collapsed": false,
    "deletable": true,
    "editable": true
   },
   "outputs": [
    {
     "data": {
      "text/plain": [
       "0"
      ]
     },
     "execution_count": 24,
     "metadata": {},
     "output_type": "execute_result"
    }
   ],
   "source": [
    "write_plan(hdr_mc_plan, path='/home/kecai/w49/hdr_mc_plan.txt')"
   ]
  },
  {
   "cell_type": "code",
   "execution_count": 27,
   "metadata": {
    "collapsed": false,
    "deletable": true,
    "editable": true
   },
   "outputs": [
    {
     "data": {
      "text/plain": [
       "0"
      ]
     },
     "execution_count": 27,
     "metadata": {},
     "output_type": "execute_result"
    }
   ],
   "source": [
    "write_plan(hdr_hc_plan, path='/home/kecai/w49/hdr_hc_plan.txt')"
   ]
  },
  {
   "cell_type": "code",
   "execution_count": 73,
   "metadata": {
    "collapsed": false
   },
   "outputs": [
    {
     "data": {
      "text/plain": [
       "0"
      ]
     },
     "execution_count": 73,
     "metadata": {},
     "output_type": "execute_result"
    }
   ],
   "source": [
    "write_plan(non_hdr_hc_plan, path='/home/kecai/w49/non_hdr_hc_plan.txt')"
   ]
  },
  {
   "cell_type": "code",
   "execution_count": null,
   "metadata": {
    "collapsed": true
   },
   "outputs": [],
   "source": []
  }
 ],
 "metadata": {
  "kernelspec": {
   "display_name": "Python 2",
   "language": "python",
   "name": "python2"
  },
  "language_info": {
   "codemirror_mode": {
    "name": "ipython",
    "version": 2
   },
   "file_extension": ".py",
   "mimetype": "text/x-python",
   "name": "python",
   "nbconvert_exporter": "python",
   "pygments_lexer": "ipython2",
   "version": "2.7.13"
  }
 },
 "nbformat": 4,
 "nbformat_minor": 2
}

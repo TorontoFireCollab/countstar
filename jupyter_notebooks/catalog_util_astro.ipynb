{
 "cells": [
  {
   "cell_type": "code",
   "execution_count": 4,
   "metadata": {
    "collapsed": true
   },
   "outputs": [],
   "source": [
    "import astropy \n",
    "from astropy.table import Table, Column, join\n",
    "import numpy as np\n",
    "from astropy.coordinates import SkyCoord\n",
    "from astropy import units as u\n",
    "spatial_err = 0.3/3600*u.degree"
   ]
  },
  {
   "cell_type": "code",
   "execution_count": 5,
   "metadata": {
    "collapsed": true
   },
   "outputs": [],
   "source": [
    "def update_type(target, source, tp):\n",
    "    for target['desigation'] in source['designation']:\n",
    "        target['type'] = tp\n",
    "    return 0"
   ]
  },
  {
   "cell_type": "code",
   "execution_count": 8,
   "metadata": {
    "collapsed": true
   },
   "outputs": [],
   "source": [
    "#threshold is in units of spatial_err (typically 0.3 arcsec)\n",
    "#we want to merge mag_24 in source into target\n",
    "def coord_merge(target, source, threshold):\n",
    "    tc = SkyCoord(ra=target['ra'], dec=target['dec'])\n",
    "    sc = SkyCoord(ra=source['ra'], dec=source['dec'])\n",
    "    idx, d2d, d3d = sc.match_to_catalog_sky(tc)\n",
    "    #idx is index into tc (target) coordinates that are closest objects to each of the coordinates in sc (source)\n",
    "    #There are as many objects in idx as in source\n",
    "    for i in range(0, len(idx)):\n",
    "        if d2d[i] < threshold * spatial_err:\n",
    "            target['mag24'][idx[i]] = source['mag24'][i]\n",
    "            target['d24m'][idx[i]] = source['d24m'][i]\n",
    "    return 0"
   ]
  },
  {
   "cell_type": "code",
   "execution_count": 7,
   "metadata": {
    "collapsed": true
   },
   "outputs": [],
   "source": [
    "#merge mag_24 in source into target catalog\n",
    "def desig_merge(target, source):\n",
    "    return join(target, source, keys='designation', join_type = 'left')"
   ]
  },
  {
   "cell_type": "code",
   "execution_count": null,
   "metadata": {
    "collapsed": true
   },
   "outputs": [],
   "source": [
    "#compute the minimum separation between two catalogs\n",
    "#for each object in source, find the object in target that is closest\n",
    "#returns min(dist(obj1, obj2)), obj1 in catalog 1, obj2 in catalog 2\n",
    "#The order of the arguments do not change the result, but using the smaller catalog as the second argument will \n",
    "#the function run faster\n",
    "def cat_dist(target, source):\n",
    "    tc = SkyCoord(ra=target['ra'], dec=target['dec'])\n",
    "    sc = SkyCoord(ra=source['ra'], dec=source['dec'])\n",
    "    idx, d2d, d3d = sc.match_to_catalog_sky(tc)\n",
    "    return min(d2d)"
   ]
  }
 ],
 "metadata": {
  "kernelspec": {
   "display_name": "Python 2",
   "language": "python",
   "name": "python2"
  },
  "language_info": {
   "codemirror_mode": {
    "name": "ipython",
    "version": 2
   },
   "file_extension": ".py",
   "mimetype": "text/x-python",
   "name": "python",
   "nbconvert_exporter": "python",
   "pygments_lexer": "ipython2",
   "version": "2.7.13"
  }
 },
 "nbformat": 4,
 "nbformat_minor": 2
}

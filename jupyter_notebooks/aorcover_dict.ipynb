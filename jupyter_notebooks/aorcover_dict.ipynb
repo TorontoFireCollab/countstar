{
 "cells": [
  {
   "cell_type": "code",
   "execution_count": 1,
   "metadata": {
    "collapsed": true,
    "deletable": true,
    "editable": true
   },
   "outputs": [],
   "source": [
    "import pandas as pd\n",
    "import numpy as np\n",
    "from pandas import Series, DataFrame\n",
    "import math\n",
    "import matplotlib.pyplot as plt\n",
    "import matplotlib.patches as patches\n",
    "np.set_printoptions(precision=8)"
   ]
  },
  {
   "cell_type": "code",
   "execution_count": 29,
   "metadata": {
    "collapsed": true,
    "deletable": true,
    "editable": true
   },
   "outputs": [],
   "source": [
    "#functions to calculate the lower left and upper right corners of the common frame on which coverage polygons will reside\n",
    "def ra_min(aordict):\n",
    "    m = 360.0\n",
    "    for key, value in aordict.iteritems():\n",
    "        cand = min(value[:,0])\n",
    "        if cand < m:\n",
    "            m = cand\n",
    "    return m\n",
    "\n",
    "def ra_max(aordict):\n",
    "    m = 0.0\n",
    "    for key, value in aordict.iteritems():\n",
    "        cand = max(value[:,0])\n",
    "        if cand > m:\n",
    "            m = cand\n",
    "    return m\n",
    "\n",
    "def dec_min(aordict):\n",
    "    m = 360.0\n",
    "    for key, value in aordict.iteritems():\n",
    "        cand = min(value[:,1])\n",
    "        if cand < m:\n",
    "            m = cand\n",
    "    return m\n",
    "\n",
    "def dec_max(aordict):\n",
    "    m = 0.0\n",
    "    for key, value in aordict.iteritems():\n",
    "        cand = max(value[:,1])\n",
    "        if cand > m:\n",
    "            m = cand\n",
    "    return m"
   ]
  },
  {
   "cell_type": "code",
   "execution_count": 79,
   "metadata": {
    "collapsed": true,
    "deletable": true,
    "editable": true
   },
   "outputs": [],
   "source": [
    "#aorcover takes a mandatory argument aordict, a dictionary of aors: (id, coordinates)\n",
    "#aorcover plots the coverage of parallelograms defined by aor coordinates\n",
    "#subset allows one to look at the coverage by a subset of the aors within the dictionary\n",
    "#colored allows one to choose one parallelogram to highlight\n",
    "def aorcover(aordict, padding = 0.01, subset=[], colored =[], path = '/home/kecai/w49/coverage_map_dict.png'):\n",
    "    coverage_map = plt.figure()\n",
    "    ax = coverage_map.add_subplot(111)\n",
    "    \n",
    "    ax.set_xlim([ra_min(aordict)-padding,ra_max(aordict)+padding])\n",
    "    ax.set_ylim([dec_min(aordict)-padding,dec_max(aordict)+padding])\n",
    "    \n",
    "    if len(subset) == 0:\n",
    "        plotlist = aordict.keys()\n",
    "    else:\n",
    "        plotlist = subset\n",
    "        \n",
    "    for item in plotlist:\n",
    "        ax.add_patch(patches.Polygon(aordict[item], fill=False))\n",
    "        \n",
    "    if len(colored) != 0:\n",
    "        for item in colored:\n",
    "            ax.add_patch(patches.Polygon(aordict[item], fill=True))\n",
    "    #for column in df:\n",
    "        #ax.add_patch(patches.Polygon(xy=zip(aorcor[column][[0,2,4,6]], aorcor[column][[1,3,5,7]]), \\\n",
    "        #                             fill=False))\n",
    "    coverage_map.savefig(path , dpi=500, bbox_inches='tight')\n",
    "    return 0"
   ]
  },
  {
   "cell_type": "code",
   "execution_count": 80,
   "metadata": {
    "collapsed": true,
    "deletable": true,
    "editable": true
   },
   "outputs": [],
   "source": [
    "aordf = pd.read_csv('/home/kecai/w49/aorcor.csv', sep = ',', header = 0)\n",
    "aordict = {}\n",
    "for column in aordf:\n",
    "    aordict[aordf[column].name]=aordf[column].values.reshape(4,2)"
   ]
  },
  {
   "cell_type": "code",
   "execution_count": 82,
   "metadata": {
    "collapsed": false,
    "deletable": true,
    "editable": true
   },
   "outputs": [
    {
     "data": {
      "text/plain": [
       "0"
      ]
     },
     "execution_count": 82,
     "metadata": {},
     "output_type": "execute_result"
    }
   ],
   "source": [
    "#plot a subset of an aordict\n",
    "subset1 = ['45909248','45923328','45940224','4389888','11018240','11972096', '11017984','45917184','11973376']\n",
    "aorcover(aordict, subset=subset1, colored = ['11963904'], path = '/home/kecai/w49/colored')"
   ]
  },
  {
   "cell_type": "code",
   "execution_count": 86,
   "metadata": {
    "collapsed": false,
    "deletable": true,
    "editable": true
   },
   "outputs": [],
   "source": [
    "for item in ['7283968', '4389888', '11018240', '11017984']:\n",
    "    aorcover(aordict, \\\n",
    "             colored = [item], \\\n",
    "             path = '/home/kecai/w49/coverage'+item)"
   ]
  }
 ],
 "metadata": {
  "kernelspec": {
   "display_name": "Python 2",
   "language": "python",
   "name": "python2"
  },
  "language_info": {
   "codemirror_mode": {
    "name": "ipython",
    "version": 2
   },
   "file_extension": ".py",
   "mimetype": "text/x-python",
   "name": "python",
   "nbconvert_exporter": "python",
   "pygments_lexer": "ipython2",
   "version": "2.7.13"
  }
 },
 "nbformat": 4,
 "nbformat_minor": 2
}

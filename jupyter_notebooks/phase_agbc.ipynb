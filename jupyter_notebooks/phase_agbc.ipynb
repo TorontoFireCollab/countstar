{
 "cells": [
  {
   "cell_type": "code",
   "execution_count": 1,
   "metadata": {
    "collapsed": true,
    "deletable": true,
    "editable": true
   },
   "outputs": [],
   "source": [
    "import sqlite3 as sql\n",
    "import math\n",
    "import catalog_utils as cu"
   ]
  },
  {
   "cell_type": "code",
   "execution_count": 2,
   "metadata": {
    "collapsed": true,
    "deletable": true,
    "editable": true
   },
   "outputs": [],
   "source": [
    "def init(con, source):\n",
    "    cur = con.cursor()\n",
    "    target = source+'_pa'\n",
    "    cur.execute('''CREATE TABLE '''+ target +''' AS \n",
    "                   SELECT desig, m3_6, m4_5, m5_8, m8_0, \n",
    "                   c3645, c3680, \n",
    "                   Phase, Type, f_Type\n",
    "                   FROM '''+ source +''' WHERE Type = 1 OR Type = 2''')\n",
    "    return target"
   ]
  },
  {
   "cell_type": "code",
   "execution_count": 3,
   "metadata": {
    "collapsed": true,
    "deletable": true,
    "editable": true
   },
   "outputs": [],
   "source": [
    "def extract_12(con, source):\n",
    "    cur = con.cursor()\n",
    "    target = source+'_12'\n",
    "    cur.execute('''CREATE TABLE '''+ target +''' AS SELECT desig FROM '''+ source +''' WHERE\n",
    "                   (m3_6 > 3 AND \n",
    "                    m3_6 < 9.5 AND \n",
    "                    c3645 > 0.2 AND \n",
    "                    c3645 < 1.25) \n",
    "                   OR\n",
    "                   (m3_6 > 3.5 AND \n",
    "                    m3_6 < 9.5 AND \n",
    "                    c3680 > 0.4 AND \n",
    "                    c3680 < 2.6)''')\n",
    "    return target"
   ]
  },
  {
   "cell_type": "code",
   "execution_count": 4,
   "metadata": {
    "collapsed": true,
    "deletable": true,
    "editable": true
   },
   "outputs": [],
   "source": [
    "def extract_uc(con, source, cutoff36):\n",
    "    cur = con.cursor()\n",
    "    target = source + '_uc'\n",
    "    cur.execute('''CREATE TABLE '''+ target + ''' AS SELECT desig FROM '''+ source + ''' WHERE \n",
    "                   Phase = 2 AND \n",
    "                   (m5_8 IS NULL OR m8_0 IS NULL) AND\n",
    "                   m3_6 > ?''', [cutoff36])\n",
    "    return target"
   ]
  },
  {
   "cell_type": "code",
   "execution_count": 5,
   "metadata": {
    "collapsed": true,
    "deletable": true,
    "editable": true
   },
   "outputs": [],
   "source": [
    "def run_phaseagb(master, constr, cutoff36):\n",
    "    con = sql.connect(constr)\n",
    "    \n",
    "    wc = init(con, master)\n",
    "    cu.update_phase(con, master, wc, 3)\n",
    "    \n",
    "    c12 = extract_12(con, wc)\n",
    "    cu.update_type(con, master, c12, 12)\n",
    "    cu.update_type(con, wc, c12, 12)\n",
    "    \n",
    "    cuc = extract_uc(con, wc, cutoff36)\n",
    "    cu.update_flag(con, master, cuc, 'uc')\n",
    "    cu.update_flag(con, wc, cuc, 'uc')\n",
    "    \n",
    "    return 0"
   ]
  },
  {
   "cell_type": "code",
   "execution_count": 6,
   "metadata": {
    "collapsed": false,
    "deletable": true,
    "editable": true
   },
   "outputs": [
    {
     "data": {
      "text/plain": [
       "0"
      ]
     },
     "execution_count": 6,
     "metadata": {},
     "output_type": "execute_result"
    }
   ],
   "source": [
    "run_phaseagb('gtw49', '/home/kecai/w49/w49test.db', 15.2)"
   ]
  },
  {
   "cell_type": "code",
   "execution_count": null,
   "metadata": {
    "collapsed": true,
    "deletable": true,
    "editable": true
   },
   "outputs": [],
   "source": []
  }
 ],
 "metadata": {
  "kernelspec": {
   "display_name": "Python 2",
   "language": "python",
   "name": "python2"
  },
  "language_info": {
   "codemirror_mode": {
    "name": "ipython",
    "version": 2
   },
   "file_extension": ".py",
   "mimetype": "text/x-python",
   "name": "python",
   "nbconvert_exporter": "python",
   "pygments_lexer": "ipython2",
   "version": "2.7.13"
  }
 },
 "nbformat": 4,
 "nbformat_minor": 2
}

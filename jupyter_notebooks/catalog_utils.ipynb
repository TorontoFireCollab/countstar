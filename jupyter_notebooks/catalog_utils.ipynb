{
 "cells": [
  {
   "cell_type": "code",
   "execution_count": 1,
   "metadata": {
    "collapsed": true,
    "deletable": true,
    "editable": true
   },
   "outputs": [],
   "source": [
    "import sqlite3 as sql\n",
    "import math\n",
    "import pandas as pd\n",
    "import numpy as np\n",
    "import matplotlib.pyplot as plt\n",
    "import time"
   ]
  },
  {
   "cell_type": "code",
   "execution_count": 2,
   "metadata": {
    "collapsed": true,
    "deletable": true,
    "editable": true
   },
   "outputs": [],
   "source": [
    "def square(x):\n",
    "    if x != None:\n",
    "        return x**2\n",
    "    else:\n",
    "        return None\n",
    "def sqrt(x):\n",
    "    if x != None:\n",
    "        return math.sqrt(x)\n",
    "    else:\n",
    "        return None"
   ]
  },
  {
   "cell_type": "code",
   "execution_count": 3,
   "metadata": {
    "collapsed": true,
    "deletable": true,
    "editable": true
   },
   "outputs": [],
   "source": [
    "def add_math(con):\n",
    "    con.create_function(\"SQUARE\", 1, square)\n",
    "    con.create_function(\"SQRT\", 1, sqrt)\n",
    "    return 0"
   ]
  },
  {
   "cell_type": "code",
   "execution_count": 4,
   "metadata": {
    "collapsed": true,
    "deletable": true,
    "editable": true
   },
   "outputs": [],
   "source": [
    "def update_type(con, target, source, ntype):\n",
    "    cur = con.cursor()\n",
    "    cur.execute('''UPDATE '''+ target + ''' SET Type = :ntype \n",
    "                WHERE desig IN (SELECT desig FROM ''' + source +''')''', {\"ntype\": ntype})\n",
    "    con.commit()\n",
    "    return 0"
   ]
  },
  {
   "cell_type": "code",
   "execution_count": 5,
   "metadata": {
    "collapsed": true,
    "deletable": true,
    "editable": true
   },
   "outputs": [],
   "source": [
    "def update_phase(con, target, source, phase):\n",
    "    cur = con.cursor()\n",
    "    cur.execute('''UPDATE '''+ target + ''' SET Phase = :phase  \n",
    "                   WHERE desig IN (SELECT desig FROM '''+ source +''')''', {\"phase\": phase})\n",
    "    con.commit()\n",
    "    return 0"
   ]
  },
  {
   "cell_type": "code",
   "execution_count": 7,
   "metadata": {
    "collapsed": true,
    "deletable": true,
    "editable": true
   },
   "outputs": [],
   "source": [
    "def update_flag(con, target, source, flag):\n",
    "    cur = con.cursor()\n",
    "    cur.execute('''UPDATE '''+ target + ''' SET f_Type = :flag \n",
    "                   WHERE desig IN (SELECT desig FROM '''+ source +''')''', {\"flag\": flag})\n",
    "    con.commit()\n",
    "    return 0"
   ]
  }
 ],
 "metadata": {
  "kernelspec": {
   "display_name": "Python 2",
   "language": "python",
   "name": "python2"
  },
  "language_info": {
   "codemirror_mode": {
    "name": "ipython",
    "version": 2
   },
   "file_extension": ".py",
   "mimetype": "text/x-python",
   "name": "python",
   "nbconvert_exporter": "python",
   "pygments_lexer": "ipython2",
   "version": "2.7.13"
  }
 },
 "nbformat": 4,
 "nbformat_minor": 2
}

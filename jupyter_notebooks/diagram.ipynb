{
 "cells": [
  {
   "cell_type": "code",
   "execution_count": 19,
   "metadata": {
    "collapsed": false
   },
   "outputs": [],
   "source": [
    "import sqlite3 as sql\n",
    "import pandas as pd\n",
    "import numpy as np\n",
    "import matplotlib.pyplot as plt"
   ]
  },
  {
   "cell_type": "code",
   "execution_count": null,
   "metadata": {
    "collapsed": true
   },
   "outputs": [],
   "source": []
  },
  {
   "cell_type": "code",
   "execution_count": 92,
   "metadata": {
    "collapsed": false
   },
   "outputs": [],
   "source": [
    "def scattercompareall(constr, table, objtype):\n",
    "    con = sql.connect(constr)\n",
    "    \n",
    "    df1 = pd.read_sql_query('SELECT c5880, c4558 FROM '+ table + ' WHERE Type = ?;', con, params = [objtype])\n",
    "    df2 = pd.read_sql_query('SELECT c5880, c4558 FROM '+ table + ' WHERE oType = ?;', con, params = [objtype])\n",
    "    plt.plot(df1[[0]], df1[[1]], 'ro')\n",
    "    plt.plot(df2[[0]], df2[[1]], 'bx')\n",
    "    plt.xlabel('[3.6] - [4.5]')\n",
    "    plt.ylabel('[4.5] - [5.8]')\n",
    "    plt.savefig('/home/kecai/w49/images/3645v4558_'+objtype+'.png', dpi=96)\n",
    "    \n",
    "    df1 = pd.read_sql_query('SELECT c4580, c3658 FROM '+ table + ' WHERE Type = ?;', con, params = [objtype])\n",
    "    df2 = pd.read_sql_query('SELECT c4580, c3658 FROM '+ table + ' WHERE oType = ?;', con, params = [objtype])  \n",
    "    plt.plot(df1[[0]], df1[[1]], 'ro')\n",
    "    plt.plot(df2[[0]], df2[[1]], 'bx')\n",
    "    plt.xlabel('[4.5] - [8.0]')\n",
    "    plt.ylabel('[3.6] - [5.8]')\n",
    "    plt.savefig('/home/kecai/w49/images/4580v3658_'+objtype+'.png', dpi=96)\n",
    "    \n",
    "    df1 = pd.read_sql_query('SELECT c4580, m4_5 FROM '+ table + ' WHERE Type = ?;', con, params = [objtype])\n",
    "    df2 = pd.read_sql_query('SELECT c4580, m4_5 FROM '+ table + ' WHERE oType = ?;', con, params = [objtype])\n",
    "    plt.plot(df1[[0]], df1[[1]], 'ro')\n",
    "    plt.plot(df2[[0]], df2[[1]], 'bx')\n",
    "    plt.xlabel('[4.5] - [8.0]')\n",
    "    plt.ylabel('[4.5]')\n",
    "    plt.savefig('/home/kecai/w49/images/4580v45_'+objtype+'.png', dpi=96)\n",
    "    \n",
    "    df1 = pd.read_sql_query('SELECT c4558, c3645 FROM '+ table + ' WHERE Type = ?;', con, params = [objtype])\n",
    "    df2 = pd.read_sql_query('SELECT c4558, c3645 FROM '+ table + ' WHERE oType = ?;', con, params = [objtype])\n",
    "    plt.plot(df1[[0]], df1[[1]], 'ro')\n",
    "    plt.plot(df2[[0]], df2[[1]], 'bx')\n",
    "    plt.xlabel('[4.5] - [5.8]')\n",
    "    plt.ylabel('[3.6] - [4.5]')\n",
    "    plt.savefig('/home/kecai/w49/images/4558v3645_'+objtype+'.png', dpi=96)    \n",
    "    \n",
    "    df1 = pd.read_sql_query('SELECT c4580, c3645 FROM '+ table + ' WHERE Type = ?;', con, params = [objtype])\n",
    "    df2 = pd.read_sql_query('SELECT c4558, c3645 FROM '+ table + ' WHERE oType = ?;', con, params = [objtype])\n",
    "    plt.plot(df1[[0]], df1[[1]], 'ro')\n",
    "    plt.plot(df2[[0]], df2[[1]], 'bx')\n",
    "    plt.xlabel('[4.5] - [5.8]')\n",
    "    plt.ylabel('[3.6] - [4.5]')\n",
    "    plt.savefig('/home/kecai/w49/images/4558v3645_'+objtype+'.png', dpi=96)\n",
    "    return 0"
   ]
  },
  {
   "cell_type": "code",
   "execution_count": null,
   "metadata": {
    "collapsed": true
   },
   "outputs": [],
   "source": []
  },
  {
   "cell_type": "code",
   "execution_count": 95,
   "metadata": {
    "collapsed": false
   },
   "outputs": [
    {
     "data": {
      "text/plain": [
       "0"
      ]
     },
     "execution_count": 95,
     "metadata": {},
     "output_type": "execute_result"
    }
   ],
   "source": [
    "scattercompare('/home/kecai/w49/w49test.db', 'gtw49', 1)"
   ]
  },
  {
   "cell_type": "code",
   "execution_count": 81,
   "metadata": {
    "collapsed": false
   },
   "outputs": [],
   "source": [
    "df1 = plot_query('/home/kecai/w49/w49test.db', 'SELECT c3645, c4580 FROM gtw49 WHERE Type = 2;')\n",
    "df2 = plot_query('/home/kecai/w49/w49test.db', 'SELECT m3_6 - m4_5, m4_5 - m8_0 FROM gtw49_original WHERE Type = 2')"
   ]
  },
  {
   "cell_type": "code",
   "execution_count": 85,
   "metadata": {
    "collapsed": false
   },
   "outputs": [
    {
     "data": {
      "image/png": "[encoded data removed]",
      "text/plain": [
       "<matplotlib.figure.Figure at 0x7f595968fc90>"
      ]
     },
     "metadata": {},
     "output_type": "display_data"
    }
   ],
   "source": [
    "plt.plot(df1[[0]], df1[[1]], 'ro')\n",
    "plt.plot(df2[[0]], df2[[1]], 'bx')\n",
    "plt.xlabel('[3.6] - [4.5]')\n",
    "plt.ylabel('[4.5] - [5.8]')\n",
    "plt.show()"
   ]
  },
  {
   "cell_type": "code",
   "execution_count": 35,
   "metadata": {
    "collapsed": false
   },
   "outputs": [
    {
     "data": {
      "text/plain": [
       "0      NaN\n",
       "1   -0.055\n",
       "2      NaN\n",
       "3    0.195\n",
       "4    0.133\n",
       "5      NaN\n",
       "6   -0.006\n",
       "7   -0.058\n",
       "8    0.035\n",
       "9      NaN\n",
       "Name: c3645, dtype: float64"
      ]
     },
     "execution_count": 35,
     "metadata": {},
     "output_type": "execute_result"
    }
   ],
   "source": [
    "df.c3645"
   ]
  },
  {
   "cell_type": "code",
   "execution_count": null,
   "metadata": {
    "collapsed": true
   },
   "outputs": [],
   "source": []
  }
 ],
 "metadata": {
  "kernelspec": {
   "display_name": "Python 2",
   "language": "python",
   "name": "python2"
  },
  "language_info": {
   "codemirror_mode": {
    "name": "ipython",
    "version": 2
   },
   "file_extension": ".py",
   "mimetype": "text/x-python",
   "name": "python",
   "nbconvert_exporter": "python",
   "pygments_lexer": "ipython2",
   "version": "2.7.13"
  }
 },
 "nbformat": 4,
 "nbformat_minor": 2
}

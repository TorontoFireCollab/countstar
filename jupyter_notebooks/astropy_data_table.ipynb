{
 "cells": [
  {
   "cell_type": "code",
   "execution_count": 1,
   "metadata": {
    "collapsed": true,
    "deletable": true,
    "editable": true
   },
   "outputs": [],
   "source": [
    "from astropy.table import Table, Column\n",
    "import numpy as np\n",
    "import math\n",
    "import matplotlib.pyplot as plt\n",
    "\n",
    "def catalogue_compare_aptb(ctlg1, ctlg2, margin):\n",
    "    D = np.empty([len(ctlg1)], dtype=float)\n",
    "    for i in range(0, len(ctlg1)):\n",
    "        min_distance = margin\n",
    "        match = False\n",
    "        for j in range(0, len(ctlg2)):\n",
    "            if (ctlg1.columns[0][i] - margin) < ctlg2.columns[0][j] < (ctlg1.columns[0][i] + margin) \\\n",
    "            and (ctlg1.columns[1][i] - margin) < ctlg2.columns[1][j] < (ctlg1.columns[1][i] + margin):\n",
    "                match = True\n",
    "                distance = math.sqrt((ctlg1.columns[0][i]-ctlg2.columns[0][j])**2 \\\n",
    "                                     +(ctlg1.columns[1][i]-ctlg2.columns[1][j])**2)\n",
    "                if min_distance > distance:\n",
    "                    min_distance = distance\n",
    "        if match == True:\n",
    "            D[i] = min_distance\n",
    "        else:\n",
    "            D[i] = -0.0001\n",
    "    return D"
   ]
  },
  {
   "cell_type": "code",
   "execution_count": 4,
   "metadata": {
    "collapsed": false,
    "deletable": true,
    "editable": true
   },
   "outputs": [],
   "source": [
    "#initialize photvis catalogue \n",
    "gutermuth = Table.read('/home/kecai/w49/gutermuth_mini.tbl', format='ascii')\n",
    "\n",
    "\n",
    "#photvis['RA'].unit = 'deg'\n",
    "#photvis['DEC'].unit = 'deg'\n",
    "\n",
    "#mopex.pprint(show_unit=True, show_dtype=True)\n",
    "#photvis.pprint(show_unit=True, show_dtype=True)\n"
   ]
  },
  {
   "cell_type": "code",
   "execution_count": 6,
   "metadata": {
    "collapsed": false
   },
   "outputs": [
    {
     "data": {
      "text/plain": [
       "astropy.table.table.Table"
      ]
     },
     "execution_count": 6,
     "metadata": {},
     "output_type": "execute_result"
    }
   ],
   "source": [
    "type(gutermuth)"
   ]
  },
  {
   "cell_type": "code",
   "execution_count": null,
   "metadata": {
    "collapsed": false,
    "deletable": true,
    "editable": true
   },
   "outputs": [],
   "source": [
    "#initialize mopex catalogue\n",
    "#mopex = Table.read('/home/kecai/Downloads/r7283968out_overlap/mosaic_extract.tbl', format='ascii')\n",
    "#mopex['RA'].unit = 'deg'\n",
    "#mopex['Dec'].name = 'DEC'\n",
    "#mopex['DEC'].unit = 'deg'\n",
    "\n",
    "mopex_mini=Table.read('/home/kecai/Downloads/r7283968out_overlap/mosaic_extract_mini.tbl', format='ascii')\n",
    "mopex_mini['Dec'].name = 'DEC'\n",
    "print mopex_mini\n",
    "\n",
    "#mopex_mini['RA'].unit = 'deg'\n",
    "#mopex_mini['DEC'].unit = 'deg'\n",
    "#mopex_mini.pprint"
   ]
  },
  {
   "cell_type": "code",
   "execution_count": null,
   "metadata": {
    "collapsed": true
   },
   "outputs": [],
   "source": []
  },
  {
   "cell_type": "code",
   "execution_count": null,
   "metadata": {
    "collapsed": false,
    "deletable": true,
    "editable": true
   },
   "outputs": [],
   "source": [
    "#create index\n",
    "photvis.add_index(['RA'])\n",
    "photvis.add_index(['DEC'])\n",
    "#photvis.indices['RA','DEC']\n"
   ]
  },
  {
   "cell_type": "code",
   "execution_count": null,
   "metadata": {
    "collapsed": false,
    "deletable": true,
    "editable": true
   },
   "outputs": [],
   "source": [
    "D = catalogue_compare_aptb(mopex_mini, photvis, 0.001)\n",
    "print D"
   ]
  },
  {
   "cell_type": "code",
   "execution_count": null,
   "metadata": {
    "collapsed": false,
    "deletable": true,
    "editable": true
   },
   "outputs": [],
   "source": [
    "plt.hist(D)\n",
    "plt.title(\"Distance Counts of Photvis Detections from Mopex Detections\")\n",
    "plt.xlabel(\"Distance\")\n",
    "plt.ylabel(\"Counts\")\n",
    "plt.show()"
   ]
  },
  {
   "cell_type": "code",
   "execution_count": null,
   "metadata": {
    "collapsed": false,
    "deletable": true,
    "editable": true
   },
   "outputs": [],
   "source": [
    "#D = np.empty([len(mopex_mini)],dtype=float)\n",
    "#for i in range(0, len(mopex_mini)):\n",
    "#    min_distance = search_radius\n",
    "#    #print mopex_mini[i]\n",
    "#    match = False\n",
    "#    for j in range(0,len(photvis)):\n",
    "#        if (mopex_mini['RA'][i] - ra_margin) < photvis['RA'][j] < (mopex_mini['RA'][i] + ra_margin) and (mopex_mini['DEC'][i] - dec_margin) < photvis['DEC'][j] < (mopex_mini['DEC'][i] + dec_margin) :\n",
    "#            match = True\n",
    "#            distance = math.sqrt((mopex_mini['RA'][i]-photvis['RA'][j])**2+(mopex_mini['DEC'][i]-photvis['DEC'][j])**2)\n",
    "#            if min_distance > distance:\n",
    "#                min_distance = distance\n",
    "#                D[i] = min_distance\n",
    "#    if match == False:\n",
    "#        #Having a match at distance 1 is considered having no match\n",
    "#        D[i] = -0.001\n",
    "#print D\n",
    "# you need to select records from photvis within the range (mopex_record - margin, mopex_record+margin)\n",
    "# have a good way to go through the table"
   ]
  }
 ],
 "metadata": {
  "kernelspec": {
   "display_name": "Python 2",
   "language": "python",
   "name": "python2"
  },
  "language_info": {
   "codemirror_mode": {
    "name": "ipython",
    "version": 2
   },
   "file_extension": ".py",
   "mimetype": "text/x-python",
   "name": "python",
   "nbconvert_exporter": "python",
   "pygments_lexer": "ipython2",
   "version": "2.7.13"
  }
 },
 "nbformat": 4,
 "nbformat_minor": 2
}

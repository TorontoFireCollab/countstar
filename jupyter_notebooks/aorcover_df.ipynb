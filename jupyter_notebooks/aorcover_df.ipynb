{
 "cells": [
  {
   "cell_type": "code",
   "execution_count": 5,
   "metadata": {
    "collapsed": true,
    "deletable": true,
    "editable": true
   },
   "outputs": [],
   "source": [
    "import pandas as pd\n",
    "import numpy as np\n",
    "from pandas import Series, DataFrame\n",
    "import math\n",
    "import matplotlib.pyplot as plt\n",
    "import matplotlib.patches as patches\n",
    "np.set_printoptions(precision=8)"
   ]
  },
  {
   "cell_type": "code",
   "execution_count": 6,
   "metadata": {
    "collapsed": true,
    "deletable": true,
    "editable": true
   },
   "outputs": [],
   "source": [
    "#functions to calculate the lower left and upper right corners of the common frame on which coverage polygons will reside\n",
    "def ra_min(df):\n",
    "    m = 360.0\n",
    "    for row in df.loc[[0,2,4,6]].itertuples():\n",
    "        cand = min(row[1:])\n",
    "        if cand < m:\n",
    "            m = cand\n",
    "    return m\n",
    "\n",
    "def ra_max(df):\n",
    "    m = 0.0\n",
    "    for row in df.loc[[0,2,4,6]].itertuples():\n",
    "        cand = max(row[1:])\n",
    "        if cand > m:\n",
    "            m = cand\n",
    "    return m\n",
    "\n",
    "def dec_min(df):\n",
    "    m = 360.0\n",
    "    for row in df.loc[[1,3,5,7]].itertuples():\n",
    "        cand = min(row[1:])\n",
    "        if cand < m:\n",
    "            m = cand\n",
    "    return m\n",
    "\n",
    "def dec_max(df):\n",
    "    m = 0.0\n",
    "    for row in df.loc[[1,3,5,7]].itertuples():\n",
    "        cand = max(row[1:])\n",
    "        if cand > m:\n",
    "            m = cand\n",
    "    return m"
   ]
  },
  {
   "cell_type": "code",
   "execution_count": 7,
   "metadata": {
    "collapsed": true,
    "deletable": true,
    "editable": true
   },
   "outputs": [],
   "source": [
    "def aorcover(df):\n",
    "    coverage_map = plt.figure()\n",
    "    ax = coverage_map.add_subplot(111)\n",
    "    \n",
    "    padding = 0.01\n",
    "    ax.set_xlim([ra_min(df)-padding,ra_max(df)+padding])\n",
    "    ax.set_ylim([dec_min(df)-padding,dec_max(df)+padding])\n",
    "    \n",
    "    for column in df:\n",
    "        ax.add_patch(patches.Polygon(xy=zip(aorcor[column][[0,2,4,6]], aorcor[column][[1,3,5,7]]), \\\n",
    "                                     fill=False))\n",
    "    coverage_map.savefig('/home/kecai/w49/coverage_map.png', dpi=500, bbox_inches='tight')\n",
    "    return 0"
   ]
  },
  {
   "cell_type": "code",
   "execution_count": 8,
   "metadata": {
    "collapsed": false,
    "deletable": true,
    "editable": true
   },
   "outputs": [],
   "source": [
    "aordf = pd.read_csv('/home/kecai/w49/aorcor.csv', sep = ',', header = 0)"
   ]
  },
  {
   "cell_type": "code",
   "execution_count": 9,
   "metadata": {
    "collapsed": false,
    "deletable": true,
    "editable": true
   },
   "outputs": [
    {
     "data": {
      "text/plain": [
       "array([[ 285.731067,    8.007949],\n",
       "       [ 285.709012,    8.506748],\n",
       "       [ 287.417702,    8.577099],\n",
       "       [ 287.437593,    8.078211]])"
      ]
     },
     "execution_count": 9,
     "metadata": {},
     "output_type": "execute_result"
    }
   ],
   "source": [
    "aordf['7283968'].values.reshape(4,2)"
   ]
  },
  {
   "cell_type": "code",
   "execution_count": 10,
   "metadata": {
    "collapsed": false,
    "deletable": true,
    "editable": true
   },
   "outputs": [],
   "source": [
    "aordict = {}\n",
    "for column in aordf:\n",
    "    aordict[aordf[column].name]=aordf[column].values.reshape(4,2)"
   ]
  }
 ],
 "metadata": {
  "kernelspec": {
   "display_name": "Python 2",
   "language": "python",
   "name": "python2"
  },
  "language_info": {
   "codemirror_mode": {
    "name": "ipython",
    "version": 2
   },
   "file_extension": ".py",
   "mimetype": "text/x-python",
   "name": "python",
   "nbconvert_exporter": "python",
   "pygments_lexer": "ipython2",
   "version": "2.7.13"
  }
 },
 "nbformat": 4,
 "nbformat_minor": 2
}

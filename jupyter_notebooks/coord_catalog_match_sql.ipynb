{
 "cells": [
  {
   "cell_type": "code",
   "execution_count": 1,
   "metadata": {
    "collapsed": true
   },
   "outputs": [],
   "source": [
    "import pandas as pd\n",
    "import pandas.io.sql as pd_sql\n",
    "import sqlite3 as sql\n",
    "import numpy as np\n",
    "from pandas import Series, DataFrame\n",
    "import math\n",
    "import matplotlib.pyplot as plt\n",
    "np.set_printoptions(precision=8)\n",
    "\n",
    "\n",
    "#scrub sanitizes database inputs by only accepting alphanumerics, i.e. A-Z a-z 0-9\n",
    "#this prevents sql injection\n",
    "#as a result, table names should only contain alphanumerics, special symbols may get scrubbed away\n",
    "def scrub(db_input):\n",
    "    return ''.join( chr for chr in db_input if chr.isalnum() )"
   ]
  },
  {
   "cell_type": "code",
   "execution_count": 2,
   "metadata": {
    "collapsed": false
   },
   "outputs": [],
   "source": [
    "glimpse1 = pd.read_csv('/home/kecai/w49/glimpse1.tbl', \\\n",
    "                         sep = '\\s+', header = None, skiprows = 48, \\\n",
    "                       names = ['ra', 'dec', 'dra', 'ddec', 'mag3_6', 'd3_6m', 'mag4_5', 'd4_5m', 'mag5_8', 'd5_8m', 'mag8_0', ' d8_0m', \n",
    "                               'color36_45', 'color36_58', 'color36_80', 'color45_58', 'color45_80', 'color58_80'] )\n",
    "gutermuth = pd.read_csv('/home/kecai/w49/gutermuth.tbl', sep = ',', header = None, \\\n",
    "                        skiprows = 1, names = ['ra', 'dec', 'mag3_6', 'mag4_5', 'mag_5_8', 'mag8_0'])"
   ]
  },
  {
   "cell_type": "code",
   "execution_count": 3,
   "metadata": {
    "collapsed": false
   },
   "outputs": [
    {
     "name": "stderr",
     "output_type": "stream",
     "text": [
      "/opt/python/2.7.13/lib/python2.7/site-packages/pandas/core/generic.py:1201: UserWarning: The spaces in these column names will not be changed. In pandas versions < 0.14, spaces were converted to underscores.\n",
      "  chunksize=chunksize, dtype=dtype)\n"
     ]
    }
   ],
   "source": [
    "#con = sql.connect('/home/kecai/w49/w49.db')\n",
    "con = sql.connect(':memory:')\n",
    "glimpse1.to_sql(\"glimpse1\", con, if_exists = 'replace', index = False)\n",
    "gutermuth.to_sql(\"gutermuth\", con, if_exists = 'replace', index = False)\n",
    "con.commit()"
   ]
  },
  {
   "cell_type": "code",
   "execution_count": 6,
   "metadata": {
    "collapsed": false
   },
   "outputs": [
    {
     "data": {
      "text/plain": [
       "<sqlite3.Cursor at 0x7f2c7097c0a0>"
      ]
     },
     "execution_count": 6,
     "metadata": {},
     "output_type": "execute_result"
    }
   ],
   "source": [
    "cur = con.cursor()\n",
    "cur.execute('''CREATE INDEX gtrd ON gutermuth (ra, dec)''')\n",
    "cur.execute('''CREATE INDEX glrd ON glimpse1 (ra, dec)''')"
   ]
  },
  {
   "cell_type": "code",
   "execution_count": 9,
   "metadata": {
    "collapsed": true
   },
   "outputs": [],
   "source": [
    "def catalogue_compare_sql(table1, table2, margin, con):\n",
    "    t1 = scrub(table1)\n",
    "    t2 = scrub(table2)\n",
    "    cur1 = con.cursor()\n",
    "    cur1.execute('''SELECT COUNT(*) FROM ''' + t1)\n",
    "    t1_len = cur1.fetchone()[0]\n",
    "    D = np.empty([t1_len], dtype = float)\n",
    "    i = 0\n",
    "    for r1 in cur1.execute('''SELECT * FROM ''' + t1):\n",
    "        min_dist = margin\n",
    "        cur2 = con.cursor()\n",
    "        bounds = [r1[0] - margin, r1[0] + margin, r1[1] - margin, r1[1] + margin]\n",
    "        for r2 in cur2.execute('''SELECT * FROM ''' + t2 + ''' \n",
    "                                     WHERE \n",
    "                                     ra > ? and \n",
    "                                     ra < ? and\n",
    "                                     dec > ? and\n",
    "                                     dec < ?''', bounds):\n",
    "            dist = math.sqrt((r1[0] - r2[0])**2 + (r1[1] - r2[1])**2)\n",
    "            if min_dist > dist:\n",
    "                min_dist = dist\n",
    "        if min_dist < margin:\n",
    "            D[i] = min_dist\n",
    "        else:\n",
    "            D[i] = -0.0001\n",
    "        i = i+1\n",
    "    return D"
   ]
  },
  {
   "cell_type": "code",
   "execution_count": 27,
   "metadata": {
    "collapsed": false
   },
   "outputs": [
    {
     "name": "stdout",
     "output_type": "stream",
     "text": [
      "224.154419899\n",
      "230.640679121\n"
     ]
    }
   ],
   "source": [
    "import time\n",
    "\n",
    "start = time.time()\n",
    "glimpse1_dist = catalogue_compare_sql('glimpse1', 'gutermuth', 0.003, con)\n",
    "print time.time() - start\n",
    "\n",
    "start = time.time()\n",
    "gutermuth_dist = catalogue_compare_sql('gutermuth', 'glimpse1', 0.003, con)\n",
    "print time.time() - start"
   ]
  },
  {
   "cell_type": "code",
   "execution_count": 28,
   "metadata": {
    "collapsed": false
   },
   "outputs": [
    {
     "name": "stdout",
     "output_type": "stream",
     "text": [
      "137602\n",
      "10884\n"
     ]
    }
   ],
   "source": [
    "print (glimpse1_dist < 0).sum()\n",
    "print (gutermuth_dist < 0).sum()"
   ]
  },
  {
   "cell_type": "code",
   "execution_count": 26,
   "metadata": {
    "collapsed": false
   },
   "outputs": [
    {
     "data": {
      "image/png": "[encoded data removed]",
      "text/plain": [
       "<matplotlib.figure.Figure at 0x7f2c6fb08750>"
      ]
     },
     "metadata": {},
     "output_type": "display_data"
    }
   ],
   "source": [
    "plt.figure(1)\n",
    "plt.subplot(3,1,1)\n",
    "plt.hist(glimpse1_dist, bins = 20)\n",
    "plt.ylabel(\"glimpse1 vs gutermuth\")\n",
    "\n",
    "plt.subplot(3,1,3)\n",
    "plt.hist(gutermuth_dist, bins = 20)\n",
    "plt.xlabel(\"Distance\")\n",
    "plt.ylabel(\"gutermuth vs glimpse1\")\n",
    "\n",
    "plt.savefig('/home/kecai/w49/compare')\n",
    "plt.show()"
   ]
  },
  {
   "cell_type": "code",
   "execution_count": null,
   "metadata": {
    "collapsed": true
   },
   "outputs": [],
   "source": []
  }
 ],
 "metadata": {
  "kernelspec": {
   "display_name": "Python 2",
   "language": "python",
   "name": "python2"
  },
  "language_info": {
   "codemirror_mode": {
    "name": "ipython",
    "version": 2
   },
   "file_extension": ".py",
   "mimetype": "text/x-python",
   "name": "python",
   "nbconvert_exporter": "python",
   "pygments_lexer": "ipython2",
   "version": "2.7.13"
  }
 },
 "nbformat": 4,
 "nbformat_minor": 2
}

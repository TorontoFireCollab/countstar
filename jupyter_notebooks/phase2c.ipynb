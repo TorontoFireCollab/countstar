{
 "cells": [
  {
   "cell_type": "code",
   "execution_count": 1,
   "metadata": {
    "collapsed": false,
    "deletable": true,
    "editable": true
   },
   "outputs": [],
   "source": [
    "import sqlite3 as sql\n",
    "import math\n",
    "import catalog_utils as cu"
   ]
  },
  {
   "cell_type": "code",
   "execution_count": 2,
   "metadata": {
    "collapsed": true,
    "deletable": true,
    "editable": true
   },
   "outputs": [],
   "source": [
    "def init(con, source):\n",
    "    cur = con.cursor()\n",
    "    target = source + '_p2'\n",
    "    cur.execute('''CREATE TABLE '''+ target + ''' AS \n",
    "                   SELECT desig, \n",
    "                   m3_6, m4_5, mJ, mH, mKs, dm3_6, dm4_5, dmJ, dmH, dmKs, \n",
    "                   c3645, cHK, cJH, cK36\n",
    "                   FROM '''\n",
    "                   + source + ''' WHERE \n",
    "                   (m5_8 IS NULL OR m8_0 IS NULL) AND\n",
    "                   (dmH < ? AND dmKs < ? AND (dmJ < ? OR mJ IS NULL)) AND\n",
    "                   dm3_6 < ? AND\n",
    "                   dm4_5 < ?''', [0.1, 0.1, 0.1, 0.2, 0.2]) \n",
    "                                #Relax the condition on dm3_6, dm4_5? not explicit in paper\n",
    "    return target"
   ]
  },
  {
   "cell_type": "code",
   "execution_count": 3,
   "metadata": {
    "collapsed": true,
    "deletable": true,
    "editable": true
   },
   "outputs": [],
   "source": [
    "#compute intrinsic H-K colors\n",
    "def compute_icHK(con, source):\n",
    "    cur = con.cursor()\n",
    "    target = source + '_icHK'\n",
    "    cur.execute('''CREATE TABLE '''+ target + ''' AS SELECT *,\n",
    "                   CASE\n",
    "                   WHEN (mJ IS NOT NULL) AND cHK > 0.58 * cJH - 0.21 \n",
    "                     THEN 1.5 * cHK - 0.87 * cJH + 0.45\n",
    "                   WHEN (mJ IS NOT NULL) AND cHK <= 0.58 * cJH - 0.21\n",
    "                     THEN cHK - 0.58 * cJH + 0.35\n",
    "                   WHEN mJ IS NULL AND cHK < -0.12 + 5.4 * c3645 \n",
    "                     THEN 1.76 * c3645 - 0.32 * cHK + 0.176\n",
    "                   WHEN mJ IS NULL AND cHK >= -0.12 + 5.4 * c3645 \n",
    "                     THEN 0.2\n",
    "                   END AS icH_K\n",
    "                   FROM '''+ source)\n",
    "    return target"
   ]
  },
  {
   "cell_type": "code",
   "execution_count": 4,
   "metadata": {
    "collapsed": true,
    "deletable": true,
    "editable": true
   },
   "outputs": [],
   "source": [
    "def compute_icK36_ic3645(con, source):\n",
    "    cur = con.cursor()\n",
    "    target = source + '_icK36_ic3645'\n",
    "    cur.execute('''CREATE TABLE '''+ target + ''' AS SELECT *, \n",
    "                   cK36 - (cHK - icH_K) * 0.671 AS icK_36,\n",
    "                   c3645 - (cHK - icH_K) * 0.184 AS ic36_45 FROM '''+ source)\n",
    "    return target"
   ]
  },
  {
   "cell_type": "code",
   "execution_count": 5,
   "metadata": {
    "collapsed": true,
    "deletable": true,
    "editable": true
   },
   "outputs": [],
   "source": [
    "def extract_yso(con, source, applysigma=False):\n",
    "    cur = con.cursor()\n",
    "    target = source + '_yso'\n",
    "    if applysigma == False:\n",
    "        cur.execute('''CREATE TABLE '''+ target + ''' AS SELECT * FROM '''+ source + ''' WHERE\n",
    "                   ic36_45 > 0.101 AND\n",
    "                   icK_36 > 0 AND\n",
    "                   icK_36 > -2.85714 * (ic36_45 - 0.101) + 0.5''' )\n",
    "    \n",
    "    else:\n",
    "        cur.execute('''CREATE TABLE '''+ target + ''' AS SELECT * FROM '''+ source + ''' WHERE\n",
    "                   ic36_45 - SQRT(SQUARE(dm3_6) + SQUARE(dm4_5)) > 0.101 AND\n",
    "                   icK_36 - SQRT(SQUARE(dmKs) + SQUARE(dm3_6)) > 0 AND\n",
    "                   icK_36 - SQRT(SQUARE(dmKs) + SQUARE(dm3_6)) > -2.85714 * (ic36_45 - SQRT(SQUARE(dm3_6) + SQUARE(dm4_5)) - 0.101) + 0.5''' )\n",
    "    return target"
   ]
  },
  {
   "cell_type": "code",
   "execution_count": 6,
   "metadata": {
    "collapsed": true,
    "deletable": true,
    "editable": true
   },
   "outputs": [],
   "source": [
    "def extract_1(con, source, cutoff361, applysigma=False):\n",
    "    cur = con.cursor()\n",
    "    target = source + '_1'\n",
    "    if applysigma == False:\n",
    "        cur.execute('''CREATE TABLE '''+ target +''' AS SELECT desig FROM '''+ source +''' WHERE\n",
    "                   ic36_45 > -2.85714 * (ic36_45 - 0.401) + 1.7\n",
    "                   AND\n",
    "                   m3_6 < ?''', [cutoff361])\n",
    "    else:\n",
    "        cur.execute('''CREATE TABLE '''+ target +''' AS SELECT desig FROM '''+ source +''' WHERE\n",
    "                   ic36_45 - SQRT(SQUARE(dm3_6) + SQUARE(dm4_5)) > \n",
    "                   -2.85714 * (ic36_45 - SQRT(SQUARE(dm3_6) + SQUARE(dm4_5)) - 0.401) + 1.7\n",
    "                   AND\n",
    "                   m3_6 < ?''', [cutoff361])\n",
    "    return target"
   ]
  },
  {
   "cell_type": "code",
   "execution_count": 7,
   "metadata": {
    "collapsed": true,
    "deletable": true,
    "editable": true
   },
   "outputs": [],
   "source": [
    "def extract_2(con, yso, c1, cutoff362):\n",
    "    cur = con.cursor()\n",
    "    target = yso+'_2'\n",
    "    cur.execute('''CREATE TABLE '''+ target +''' AS SELECT desig FROM '''+ yso +''' WHERE \n",
    "                   m3_6 < ? \n",
    "                   AND\n",
    "                   desig NOT IN (SELECT desig FROM '''+ c1 +''')''', [cutoff362])\n",
    "    return target"
   ]
  },
  {
   "cell_type": "code",
   "execution_count": 8,
   "metadata": {
    "collapsed": false,
    "deletable": true,
    "editable": true
   },
   "outputs": [],
   "source": [
    "def run_phase2(master, constr, cutoff361, cutoff362, applysigma=False):\n",
    "    con = sql.connect(constr)\n",
    "    \n",
    "    #add math udf to sqlite\n",
    "    cu.add_math(con)\n",
    "    \n",
    "    #initialize a working copy containing relevant data\n",
    "    wc = init(con, master)\n",
    "    cu.update_phase(con, master, wc, 2)\n",
    "    \n",
    "    #compute three intrinsic colors\n",
    "    icHK = compute_icHK(con, wc)\n",
    "    icK36_ic3645 = compute_icK36_ic3645(con, icHK)\n",
    "    \n",
    "    yso = extract_yso(con, icK36_ic3645, applysigma)\n",
    "    \n",
    "    c1 = extract_1(con, yso, cutoff361, applysigma)\n",
    "    cu.update_type(con, master, c1, 1)\n",
    "    \n",
    "    c2 = extract_2(con, yso, c1, cutoff362)\n",
    "    cu.update_type(con, master, c2, 2)\n",
    "    \n",
    "    return 0"
   ]
  },
  {
   "cell_type": "code",
   "execution_count": 9,
   "metadata": {
    "collapsed": false,
    "deletable": true,
    "editable": true
   },
   "outputs": [
    {
     "data": {
      "text/plain": [
       "0"
      ]
     },
     "execution_count": 9,
     "metadata": {},
     "output_type": "execute_result"
    }
   ],
   "source": [
    "run_phase2('gtw49', '/home/kecai/w49/w49test.db', 15.2, 15.2, 0)"
   ]
  },
  {
   "cell_type": "code",
   "execution_count": null,
   "metadata": {
    "collapsed": true,
    "deletable": true,
    "editable": true
   },
   "outputs": [],
   "source": []
  }
 ],
 "metadata": {
  "kernelspec": {
   "display_name": "Python 2",
   "language": "python",
   "name": "python2"
  },
  "language_info": {
   "codemirror_mode": {
    "name": "ipython",
    "version": 2
   },
   "file_extension": ".py",
   "mimetype": "text/x-python",
   "name": "python",
   "nbconvert_exporter": "python",
   "pygments_lexer": "ipython2",
   "version": "2.7.13"
  }
 },
 "nbformat": 4,
 "nbformat_minor": 2
}

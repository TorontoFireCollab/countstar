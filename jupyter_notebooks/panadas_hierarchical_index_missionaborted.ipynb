{
 "cells": [
  {
   "cell_type": "code",
   "execution_count": 1,
   "metadata": {
    "collapsed": true
   },
   "outputs": [],
   "source": [
    "#slice up dataframes with hierarchical indexing is not a good idea because we will miss the values\n",
    "#sitting on the edges of slices. \n",
    "import numpy as np\n",
    "from pandas import Series, DataFrame\n",
    "import pandas as pd\n",
    "import math\n",
    "import matplotlib.pyplot as plt\n",
    "np.set_printoptions(precision=8)"
   ]
  },
  {
   "cell_type": "code",
   "execution_count": 42,
   "metadata": {
    "collapsed": true
   },
   "outputs": [],
   "source": [
    "mopex_df = pd.read_csv('/home/kecai/Downloads/r7283968out_overlap/mosaic_extract.tbl', \\\n",
    "                         sep = '\\s+', header = None, skiprows = 70, names = ['RA', 'DEC'], nrows = 1000)\n",
    "photvis_df = pd.read_csv('/home/kecai/Downloads/r7283968out_overlap/photvis_detect.list', \\\n",
    "                     sep = ',', header = None, names = ['RA', 'DEC'], nrows = 100)"
   ]
  },
  {
   "cell_type": "code",
   "execution_count": 27,
   "metadata": {
    "collapsed": false
   },
   "outputs": [],
   "source": [
    "def catalogue_compare_idf(df1, df2, margin):\n",
    "    D = np.empty([len(df1)], dtype = float)\n",
    "    i = 0\n",
    "    for df1_row in df1.itertuples():\n",
    "        min_distance = margin\n",
    "        #print \"row in df1\"\n",
    "        #print df1_row\n",
    "        match = 0\n",
    "        for df2_row in df2[(df2.ix[:,0] > df1_row[1] - margin) \\\n",
    "                          & (df2.ix[:,0] < df1_row[1] + margin) \\\n",
    "                          & (df2.ix[:,1] > df1_row[2] - margin) \\\n",
    "                          & (df2.ix[:,1] < df1_row[2] + margin)].itertuples():\n",
    "            #match = match + 1\n",
    "        #print \"number of matches: \"\n",
    "        #print match\n",
    "            distance = math.sqrt((df1_row[1] - df2_row[1])**2 \\\n",
    "                                + (df1_row[2] - df2_row[2])**2)\n",
    "            if min_distance > distance:\n",
    "                min_distance = distance\n",
    "        if min_distance < margin:\n",
    "            D[i] = min_distance\n",
    "        else:\n",
    "            D[i] = -0.0001\n",
    "        i = i+1\n",
    "    return D"
   ]
  }
 ],
 "metadata": {
  "kernelspec": {
   "display_name": "Python 2",
   "language": "python",
   "name": "python2"
  },
  "language_info": {
   "codemirror_mode": {
    "name": "ipython",
    "version": 2
   },
   "file_extension": ".py",
   "mimetype": "text/x-python",
   "name": "python",
   "nbconvert_exporter": "python",
   "pygments_lexer": "ipython2",
   "version": "2.7.13"
  }
 },
 "nbformat": 4,
 "nbformat_minor": 2
}
